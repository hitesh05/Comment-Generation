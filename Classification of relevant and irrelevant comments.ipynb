{
  "nbformat": 4,
  "nbformat_minor": 0,
  "metadata": {
    "colab": {
      "provenance": [],
      "collapsed_sections": [],
      "machine_shape": "hm"
    },
    "kernelspec": {
      "name": "python3",
      "display_name": "Python 3"
    },
    "language_info": {
      "name": "python"
    },
    "accelerator": "GPU"
  },
  "cells": [
    {
      "cell_type": "code",
      "metadata": {
        "id": "_m6mCfIM_nOg",
        "colab": {
          "base_uri": "https://localhost:8080/"
        },
        "outputId": "8838ff39-ff6c-40d4-c1d7-2869b0544ca3"
      },
      "source": [
        "import pandas as pd\n",
        "import numpy as np\n",
        "from keras.utils.np_utils import to_categorical\n",
        "from sklearn.preprocessing import LabelEncoder\n",
        "import nltk\n",
        "nltk.download('stopwords')\n",
        "# stop = stopwords.words('english')"
      ],
      "execution_count": 75,
      "outputs": [
        {
          "output_type": "stream",
          "name": "stderr",
          "text": [
            "[nltk_data] Downloading package stopwords to /root/nltk_data...\n",
            "[nltk_data]   Package stopwords is already up-to-date!\n"
          ]
        },
        {
          "output_type": "execute_result",
          "data": {
            "text/plain": [
              "True"
            ]
          },
          "metadata": {},
          "execution_count": 75
        }
      ]
    },
    {
      "cell_type": "code",
      "source": [
        "!gdown \"12SbaLA5HFfAPJOoqpDKaG4Xw8ARlBs79\""
      ],
      "metadata": {
        "colab": {
          "base_uri": "https://localhost:8080/"
        },
        "id": "IR2GD1ccrahM",
        "outputId": "2da6de10-73c5-4e0f-8430-58e38a561c3a"
      },
      "execution_count": 76,
      "outputs": [
        {
          "output_type": "stream",
          "name": "stdout",
          "text": [
            "Downloading...\n",
            "From: https://drive.google.com/uc?id=12SbaLA5HFfAPJOoqpDKaG4Xw8ARlBs79\n",
            "To: /content/IRSE_FIRE_2022_track_train_and_test.zip\n",
            "\r  0% 0.00/946k [00:00<?, ?B/s]\r100% 946k/946k [00:00<00:00, 139MB/s]\n"
          ]
        }
      ]
    },
    {
      "cell_type": "code",
      "source": [
        "!unzip \"IRSE_FIRE_2022_track_train_and_test.zip\""
      ],
      "metadata": {
        "colab": {
          "base_uri": "https://localhost:8080/"
        },
        "id": "IQJwH8ndrkwO",
        "outputId": "f5b70901-59f9-4572-ec91-e28ff5db2520"
      },
      "execution_count": 77,
      "outputs": [
        {
          "output_type": "stream",
          "name": "stdout",
          "text": [
            "Archive:  IRSE_FIRE_2022_track_train_and_test.zip\n",
            "replace IRSE_FIRE_2022_Track_Training_Data_preprocessed.csv? [y]es, [n]o, [A]ll, [N]one, [r]ename: "
          ]
        }
      ]
    },
    {
      "cell_type": "code",
      "metadata": {
        "id": "QYhks0HFG0h3"
      },
      "source": [
        "df = pd.read_csv(\"IRSE_FIRE_2022_Track_Training_Data_preprocessed.csv\")"
      ],
      "execution_count": 79,
      "outputs": []
    },
    {
      "cell_type": "code",
      "metadata": {
        "id": "xQ0mJMJUKO36",
        "colab": {
          "base_uri": "https://localhost:8080/"
        },
        "outputId": "0ab07019-9f37-4781-aa26-95a08b698081"
      },
      "source": [
        "df.columns"
      ],
      "execution_count": null,
      "outputs": [
        {
          "output_type": "execute_result",
          "data": {
            "text/plain": [
              "Index(['Comments', 'Surrounding Code Context', 'Class'], dtype='object')"
            ]
          },
          "metadata": {},
          "execution_count": 12
        }
      ]
    },
    {
      "cell_type": "code",
      "metadata": {
        "id": "YVzSQuiK__FO",
        "colab": {
          "base_uri": "https://localhost:8080/"
        },
        "outputId": "65c63b3d-ff77-4a48-ec21-4fd250800153"
      },
      "source": [
        "print(df.shape)"
      ],
      "execution_count": 82,
      "outputs": [
        {
          "output_type": "stream",
          "name": "stdout",
          "text": [
            "(8047, 3)\n"
          ]
        }
      ]
    },
    {
      "cell_type": "code",
      "source": [],
      "metadata": {
        "id": "uy0EszD38SOx"
      },
      "execution_count": null,
      "outputs": []
    },
    {
      "cell_type": "code",
      "metadata": {
        "id": "E5PlQq9qCz5A",
        "colab": {
          "base_uri": "https://localhost:8080/"
        },
        "outputId": "46ee4950-04ce-4bf1-dfdc-d7a6b6108aad"
      },
      "source": [
        "print(\"Number of missing values\")\n",
        "print(df.isnull().sum())"
      ],
      "execution_count": null,
      "outputs": [
        {
          "output_type": "stream",
          "name": "stdout",
          "text": [
            "Number of missing values\n",
            "Comments                    0\n",
            "Surrounding Code Context    0\n",
            "Class                       0\n",
            "dtype: int64\n"
          ]
        }
      ]
    },
    {
      "cell_type": "code",
      "metadata": {
        "id": "lRvZS-XQC-im",
        "colab": {
          "base_uri": "https://localhost:8080/"
        },
        "outputId": "f0bd38d0-e9c2-4f0d-83bb-8d79ad488738"
      },
      "source": [
        "print(\"Train Target Distribution Comment Useful/Not Useful\")\n",
        "print(df.Class.value_counts())"
      ],
      "execution_count": null,
      "outputs": [
        {
          "output_type": "stream",
          "name": "stdout",
          "text": [
            "Train Target Distribution Comment Useful/Not Useful\n",
            "Useful        4337\n",
            "Not Useful    3710\n",
            "Name: Class, dtype: int64\n"
          ]
        }
      ]
    },
    {
      "cell_type": "code",
      "source": [
        "df.columns"
      ],
      "metadata": {
        "colab": {
          "base_uri": "https://localhost:8080/"
        },
        "id": "ebFg-zsnt_Qz",
        "outputId": "e166fe43-6618-4b1b-91e9-687b508dd77d"
      },
      "execution_count": null,
      "outputs": [
        {
          "output_type": "execute_result",
          "data": {
            "text/plain": [
              "Index(['Comments', 'Surrounding Code Context', 'Class'], dtype='object')"
            ]
          },
          "metadata": {},
          "execution_count": 19
        }
      ]
    },
    {
      "cell_type": "code",
      "metadata": {
        "id": "A6QfPpUkeiro"
      },
      "source": [
        "def cleaning_dataset(df):\n",
        "    \n",
        "    # Pre-Processing\n",
        "    # convert all questions in string format\n",
        "    df['Comments'] = df['Comments'].astype(str)\n",
        "    df['Surrounding Code Context'] = df['Surrounding Code Context'].astype(str)\n",
        "    \n",
        "    # convert all sentences in lower case\n",
        "    df['Comments'] = df['Comments'].apply(lambda sentence_A: sentence_A.lower())\n",
        "    df['Surrounding Code Context'] = df['Surrounding Code Context'].apply(lambda sentence_B: sentence_B.lower())\n",
        "       \n",
        "    return df"
      ],
      "execution_count": null,
      "outputs": []
    },
    {
      "cell_type": "code",
      "metadata": {
        "id": "P2p5vnptfUOl"
      },
      "source": [
        "df = cleaning_dataset(df)"
      ],
      "execution_count": null,
      "outputs": []
    },
    {
      "cell_type": "code",
      "metadata": {
        "id": "w0RSTKNqhDZb",
        "colab": {
          "base_uri": "https://localhost:8080/",
          "height": 206
        },
        "outputId": "a95e5195-10eb-407b-b13a-7255f8016c29"
      },
      "source": [
        "df.head()"
      ],
      "execution_count": null,
      "outputs": [
        {
          "output_type": "execute_result",
          "data": {
            "text/plain": [
              "       Comments                           Surrounding Code Context       Class\n",
              "0  /*test 529*/  -10.   int res = 0;\\n-9.   curl *curl = null;\\...  Not Useful\n",
              "1  /*test 525*/  -2.     fprintf(stderr, \"usage: lib529 [url] [...  Not Useful\n",
              "2      /*done*/  -10.   multi_add_handle(m, curl);\\n-9.   for(;...  Not Useful\n",
              "3  /*test 529*/  -10.   int res = 0;\\n-9.   curl *curl = null;\\...  Not Useful\n",
              "4  /*test 525*/  -2.     fprintf(stderr, \"usage: lib529 [url] [...  Not Useful"
            ],
            "text/html": [
              "\n",
              "  <div id=\"df-a68761b0-675e-41fd-8452-8b9889310899\">\n",
              "    <div class=\"colab-df-container\">\n",
              "      <div>\n",
              "<style scoped>\n",
              "    .dataframe tbody tr th:only-of-type {\n",
              "        vertical-align: middle;\n",
              "    }\n",
              "\n",
              "    .dataframe tbody tr th {\n",
              "        vertical-align: top;\n",
              "    }\n",
              "\n",
              "    .dataframe thead th {\n",
              "        text-align: right;\n",
              "    }\n",
              "</style>\n",
              "<table border=\"1\" class=\"dataframe\">\n",
              "  <thead>\n",
              "    <tr style=\"text-align: right;\">\n",
              "      <th></th>\n",
              "      <th>Comments</th>\n",
              "      <th>Surrounding Code Context</th>\n",
              "      <th>Class</th>\n",
              "    </tr>\n",
              "  </thead>\n",
              "  <tbody>\n",
              "    <tr>\n",
              "      <th>0</th>\n",
              "      <td>/*test 529*/</td>\n",
              "      <td>-10.   int res = 0;\\n-9.   curl *curl = null;\\...</td>\n",
              "      <td>Not Useful</td>\n",
              "    </tr>\n",
              "    <tr>\n",
              "      <th>1</th>\n",
              "      <td>/*test 525*/</td>\n",
              "      <td>-2.     fprintf(stderr, \"usage: lib529 [url] [...</td>\n",
              "      <td>Not Useful</td>\n",
              "    </tr>\n",
              "    <tr>\n",
              "      <th>2</th>\n",
              "      <td>/*done*/</td>\n",
              "      <td>-10.   multi_add_handle(m, curl);\\n-9.   for(;...</td>\n",
              "      <td>Not Useful</td>\n",
              "    </tr>\n",
              "    <tr>\n",
              "      <th>3</th>\n",
              "      <td>/*test 529*/</td>\n",
              "      <td>-10.   int res = 0;\\n-9.   curl *curl = null;\\...</td>\n",
              "      <td>Not Useful</td>\n",
              "    </tr>\n",
              "    <tr>\n",
              "      <th>4</th>\n",
              "      <td>/*test 525*/</td>\n",
              "      <td>-2.     fprintf(stderr, \"usage: lib529 [url] [...</td>\n",
              "      <td>Not Useful</td>\n",
              "    </tr>\n",
              "  </tbody>\n",
              "</table>\n",
              "</div>\n",
              "      <button class=\"colab-df-convert\" onclick=\"convertToInteractive('df-a68761b0-675e-41fd-8452-8b9889310899')\"\n",
              "              title=\"Convert this dataframe to an interactive table.\"\n",
              "              style=\"display:none;\">\n",
              "        \n",
              "  <svg xmlns=\"http://www.w3.org/2000/svg\" height=\"24px\"viewBox=\"0 0 24 24\"\n",
              "       width=\"24px\">\n",
              "    <path d=\"M0 0h24v24H0V0z\" fill=\"none\"/>\n",
              "    <path d=\"M18.56 5.44l.94 2.06.94-2.06 2.06-.94-2.06-.94-.94-2.06-.94 2.06-2.06.94zm-11 1L8.5 8.5l.94-2.06 2.06-.94-2.06-.94L8.5 2.5l-.94 2.06-2.06.94zm10 10l.94 2.06.94-2.06 2.06-.94-2.06-.94-.94-2.06-.94 2.06-2.06.94z\"/><path d=\"M17.41 7.96l-1.37-1.37c-.4-.4-.92-.59-1.43-.59-.52 0-1.04.2-1.43.59L10.3 9.45l-7.72 7.72c-.78.78-.78 2.05 0 2.83L4 21.41c.39.39.9.59 1.41.59.51 0 1.02-.2 1.41-.59l7.78-7.78 2.81-2.81c.8-.78.8-2.07 0-2.86zM5.41 20L4 18.59l7.72-7.72 1.47 1.35L5.41 20z\"/>\n",
              "  </svg>\n",
              "      </button>\n",
              "      \n",
              "  <style>\n",
              "    .colab-df-container {\n",
              "      display:flex;\n",
              "      flex-wrap:wrap;\n",
              "      gap: 12px;\n",
              "    }\n",
              "\n",
              "    .colab-df-convert {\n",
              "      background-color: #E8F0FE;\n",
              "      border: none;\n",
              "      border-radius: 50%;\n",
              "      cursor: pointer;\n",
              "      display: none;\n",
              "      fill: #1967D2;\n",
              "      height: 32px;\n",
              "      padding: 0 0 0 0;\n",
              "      width: 32px;\n",
              "    }\n",
              "\n",
              "    .colab-df-convert:hover {\n",
              "      background-color: #E2EBFA;\n",
              "      box-shadow: 0px 1px 2px rgba(60, 64, 67, 0.3), 0px 1px 3px 1px rgba(60, 64, 67, 0.15);\n",
              "      fill: #174EA6;\n",
              "    }\n",
              "\n",
              "    [theme=dark] .colab-df-convert {\n",
              "      background-color: #3B4455;\n",
              "      fill: #D2E3FC;\n",
              "    }\n",
              "\n",
              "    [theme=dark] .colab-df-convert:hover {\n",
              "      background-color: #434B5C;\n",
              "      box-shadow: 0px 1px 3px 1px rgba(0, 0, 0, 0.15);\n",
              "      filter: drop-shadow(0px 1px 2px rgba(0, 0, 0, 0.3));\n",
              "      fill: #FFFFFF;\n",
              "    }\n",
              "  </style>\n",
              "\n",
              "      <script>\n",
              "        const buttonEl =\n",
              "          document.querySelector('#df-a68761b0-675e-41fd-8452-8b9889310899 button.colab-df-convert');\n",
              "        buttonEl.style.display =\n",
              "          google.colab.kernel.accessAllowed ? 'block' : 'none';\n",
              "\n",
              "        async function convertToInteractive(key) {\n",
              "          const element = document.querySelector('#df-a68761b0-675e-41fd-8452-8b9889310899');\n",
              "          const dataTable =\n",
              "            await google.colab.kernel.invokeFunction('convertToInteractive',\n",
              "                                                     [key], {});\n",
              "          if (!dataTable) return;\n",
              "\n",
              "          const docLinkHtml = 'Like what you see? Visit the ' +\n",
              "            '<a target=\"_blank\" href=https://colab.research.google.com/notebooks/data_table.ipynb>data table notebook</a>'\n",
              "            + ' to learn more about interactive tables.';\n",
              "          element.innerHTML = '';\n",
              "          dataTable['output_type'] = 'display_data';\n",
              "          await google.colab.output.renderOutput(dataTable, element);\n",
              "          const docLink = document.createElement('div');\n",
              "          docLink.innerHTML = docLinkHtml;\n",
              "          element.appendChild(docLink);\n",
              "        }\n",
              "      </script>\n",
              "    </div>\n",
              "  </div>\n",
              "  "
            ]
          },
          "metadata": {},
          "execution_count": 22
        }
      ]
    },
    {
      "cell_type": "code",
      "metadata": {
        "id": "wP6_9aLSMQL2"
      },
      "source": [
        "le = LabelEncoder()\n",
        "df['Class'] = le.fit_transform(df['Class'])"
      ],
      "execution_count": null,
      "outputs": []
    },
    {
      "cell_type": "code",
      "source": [
        "from gensim.utils import simple_preprocess"
      ],
      "metadata": {
        "id": "61HAHGFYukyG"
      },
      "execution_count": null,
      "outputs": []
    },
    {
      "cell_type": "code",
      "source": [
        "df[\"Comments\"] = df.Comments.apply(simple_preprocess)"
      ],
      "metadata": {
        "id": "5dsUkNs9u571"
      },
      "execution_count": null,
      "outputs": []
    },
    {
      "cell_type": "code",
      "source": [
        "df[\"Surrounding Code Context\"] = df[\"Surrounding Code Context\"].apply(simple_preprocess)"
      ],
      "metadata": {
        "id": "O_QSTtzEvPUv"
      },
      "execution_count": null,
      "outputs": []
    },
    {
      "cell_type": "code",
      "source": [
        "df.head()"
      ],
      "metadata": {
        "colab": {
          "base_uri": "https://localhost:8080/",
          "height": 206
        },
        "id": "lDkCp0u3vIO7",
        "outputId": "f743d5e8-0924-4c3c-c3ce-62fc2d958ddd"
      },
      "execution_count": null,
      "outputs": [
        {
          "output_type": "execute_result",
          "data": {
            "text/plain": [
              "  Comments                           Surrounding Code Context  Class\n",
              "0   [test]  [int, res, curl, curl, null, file, hd_src, nul...      0\n",
              "1   [test]  [fprintf, stderr, usage, lib, url, uploadfile,...      0\n",
              "2   [done]  [curl, for, struct, timeval, interval, fd_set,...      0\n",
              "3   [test]  [int, res, curl, curl, null, file, hd_src, nul...      0\n",
              "4   [test]  [fprintf, stderr, usage, lib, url, uploadfile,...      0"
            ],
            "text/html": [
              "\n",
              "  <div id=\"df-8245cba2-3983-49ac-9839-1b5162ef1911\">\n",
              "    <div class=\"colab-df-container\">\n",
              "      <div>\n",
              "<style scoped>\n",
              "    .dataframe tbody tr th:only-of-type {\n",
              "        vertical-align: middle;\n",
              "    }\n",
              "\n",
              "    .dataframe tbody tr th {\n",
              "        vertical-align: top;\n",
              "    }\n",
              "\n",
              "    .dataframe thead th {\n",
              "        text-align: right;\n",
              "    }\n",
              "</style>\n",
              "<table border=\"1\" class=\"dataframe\">\n",
              "  <thead>\n",
              "    <tr style=\"text-align: right;\">\n",
              "      <th></th>\n",
              "      <th>Comments</th>\n",
              "      <th>Surrounding Code Context</th>\n",
              "      <th>Class</th>\n",
              "    </tr>\n",
              "  </thead>\n",
              "  <tbody>\n",
              "    <tr>\n",
              "      <th>0</th>\n",
              "      <td>[test]</td>\n",
              "      <td>[int, res, curl, curl, null, file, hd_src, nul...</td>\n",
              "      <td>0</td>\n",
              "    </tr>\n",
              "    <tr>\n",
              "      <th>1</th>\n",
              "      <td>[test]</td>\n",
              "      <td>[fprintf, stderr, usage, lib, url, uploadfile,...</td>\n",
              "      <td>0</td>\n",
              "    </tr>\n",
              "    <tr>\n",
              "      <th>2</th>\n",
              "      <td>[done]</td>\n",
              "      <td>[curl, for, struct, timeval, interval, fd_set,...</td>\n",
              "      <td>0</td>\n",
              "    </tr>\n",
              "    <tr>\n",
              "      <th>3</th>\n",
              "      <td>[test]</td>\n",
              "      <td>[int, res, curl, curl, null, file, hd_src, nul...</td>\n",
              "      <td>0</td>\n",
              "    </tr>\n",
              "    <tr>\n",
              "      <th>4</th>\n",
              "      <td>[test]</td>\n",
              "      <td>[fprintf, stderr, usage, lib, url, uploadfile,...</td>\n",
              "      <td>0</td>\n",
              "    </tr>\n",
              "  </tbody>\n",
              "</table>\n",
              "</div>\n",
              "      <button class=\"colab-df-convert\" onclick=\"convertToInteractive('df-8245cba2-3983-49ac-9839-1b5162ef1911')\"\n",
              "              title=\"Convert this dataframe to an interactive table.\"\n",
              "              style=\"display:none;\">\n",
              "        \n",
              "  <svg xmlns=\"http://www.w3.org/2000/svg\" height=\"24px\"viewBox=\"0 0 24 24\"\n",
              "       width=\"24px\">\n",
              "    <path d=\"M0 0h24v24H0V0z\" fill=\"none\"/>\n",
              "    <path d=\"M18.56 5.44l.94 2.06.94-2.06 2.06-.94-2.06-.94-.94-2.06-.94 2.06-2.06.94zm-11 1L8.5 8.5l.94-2.06 2.06-.94-2.06-.94L8.5 2.5l-.94 2.06-2.06.94zm10 10l.94 2.06.94-2.06 2.06-.94-2.06-.94-.94-2.06-.94 2.06-2.06.94z\"/><path d=\"M17.41 7.96l-1.37-1.37c-.4-.4-.92-.59-1.43-.59-.52 0-1.04.2-1.43.59L10.3 9.45l-7.72 7.72c-.78.78-.78 2.05 0 2.83L4 21.41c.39.39.9.59 1.41.59.51 0 1.02-.2 1.41-.59l7.78-7.78 2.81-2.81c.8-.78.8-2.07 0-2.86zM5.41 20L4 18.59l7.72-7.72 1.47 1.35L5.41 20z\"/>\n",
              "  </svg>\n",
              "      </button>\n",
              "      \n",
              "  <style>\n",
              "    .colab-df-container {\n",
              "      display:flex;\n",
              "      flex-wrap:wrap;\n",
              "      gap: 12px;\n",
              "    }\n",
              "\n",
              "    .colab-df-convert {\n",
              "      background-color: #E8F0FE;\n",
              "      border: none;\n",
              "      border-radius: 50%;\n",
              "      cursor: pointer;\n",
              "      display: none;\n",
              "      fill: #1967D2;\n",
              "      height: 32px;\n",
              "      padding: 0 0 0 0;\n",
              "      width: 32px;\n",
              "    }\n",
              "\n",
              "    .colab-df-convert:hover {\n",
              "      background-color: #E2EBFA;\n",
              "      box-shadow: 0px 1px 2px rgba(60, 64, 67, 0.3), 0px 1px 3px 1px rgba(60, 64, 67, 0.15);\n",
              "      fill: #174EA6;\n",
              "    }\n",
              "\n",
              "    [theme=dark] .colab-df-convert {\n",
              "      background-color: #3B4455;\n",
              "      fill: #D2E3FC;\n",
              "    }\n",
              "\n",
              "    [theme=dark] .colab-df-convert:hover {\n",
              "      background-color: #434B5C;\n",
              "      box-shadow: 0px 1px 3px 1px rgba(0, 0, 0, 0.15);\n",
              "      filter: drop-shadow(0px 1px 2px rgba(0, 0, 0, 0.3));\n",
              "      fill: #FFFFFF;\n",
              "    }\n",
              "  </style>\n",
              "\n",
              "      <script>\n",
              "        const buttonEl =\n",
              "          document.querySelector('#df-8245cba2-3983-49ac-9839-1b5162ef1911 button.colab-df-convert');\n",
              "        buttonEl.style.display =\n",
              "          google.colab.kernel.accessAllowed ? 'block' : 'none';\n",
              "\n",
              "        async function convertToInteractive(key) {\n",
              "          const element = document.querySelector('#df-8245cba2-3983-49ac-9839-1b5162ef1911');\n",
              "          const dataTable =\n",
              "            await google.colab.kernel.invokeFunction('convertToInteractive',\n",
              "                                                     [key], {});\n",
              "          if (!dataTable) return;\n",
              "\n",
              "          const docLinkHtml = 'Like what you see? Visit the ' +\n",
              "            '<a target=\"_blank\" href=https://colab.research.google.com/notebooks/data_table.ipynb>data table notebook</a>'\n",
              "            + ' to learn more about interactive tables.';\n",
              "          element.innerHTML = '';\n",
              "          dataTable['output_type'] = 'display_data';\n",
              "          await google.colab.output.renderOutput(dataTable, element);\n",
              "          const docLink = document.createElement('div');\n",
              "          docLink.innerHTML = docLinkHtml;\n",
              "          element.appendChild(docLink);\n",
              "        }\n",
              "      </script>\n",
              "    </div>\n",
              "  </div>\n",
              "  "
            ]
          },
          "metadata": {},
          "execution_count": 32
        }
      ]
    },
    {
      "cell_type": "markdown",
      "metadata": {
        "id": "jCJGZ4POAY1u"
      },
      "source": [
        "### Glove Embeddings"
      ]
    },
    {
      "cell_type": "code",
      "metadata": {
        "id": "mKu5ZZbB_uSq",
        "colab": {
          "base_uri": "https://localhost:8080/"
        },
        "outputId": "68cc4538-6eba-4d32-abda-cc812c0edfe0"
      },
      "source": [
        "!wget http://nlp.stanford.edu/data/glove.6B.zip"
      ],
      "execution_count": 35,
      "outputs": [
        {
          "output_type": "stream",
          "name": "stdout",
          "text": [
            "--2022-10-21 13:41:18--  http://nlp.stanford.edu/data/glove.6B.zip\n",
            "Resolving nlp.stanford.edu (nlp.stanford.edu)... 171.64.67.140\n",
            "Connecting to nlp.stanford.edu (nlp.stanford.edu)|171.64.67.140|:80... connected.\n",
            "HTTP request sent, awaiting response... 302 Found\n",
            "Location: https://nlp.stanford.edu/data/glove.6B.zip [following]\n",
            "--2022-10-21 13:41:19--  https://nlp.stanford.edu/data/glove.6B.zip\n",
            "Connecting to nlp.stanford.edu (nlp.stanford.edu)|171.64.67.140|:443... connected.\n",
            "HTTP request sent, awaiting response... 301 Moved Permanently\n",
            "Location: https://downloads.cs.stanford.edu/nlp/data/glove.6B.zip [following]\n",
            "--2022-10-21 13:41:19--  https://downloads.cs.stanford.edu/nlp/data/glove.6B.zip\n",
            "Resolving downloads.cs.stanford.edu (downloads.cs.stanford.edu)... 171.64.64.22\n",
            "Connecting to downloads.cs.stanford.edu (downloads.cs.stanford.edu)|171.64.64.22|:443... connected.\n",
            "HTTP request sent, awaiting response... 200 OK\n",
            "Length: 862182613 (822M) [application/zip]\n",
            "Saving to: ‘glove.6B.zip’\n",
            "\n",
            "glove.6B.zip        100%[===================>] 822.24M  5.06MB/s    in 2m 42s  \n",
            "\n",
            "2022-10-21 13:44:02 (5.07 MB/s) - ‘glove.6B.zip’ saved [862182613/862182613]\n",
            "\n"
          ]
        }
      ]
    },
    {
      "cell_type": "code",
      "source": [
        "!unzip \"glove.6B.zip\""
      ],
      "metadata": {
        "colab": {
          "base_uri": "https://localhost:8080/"
        },
        "id": "_J5A-yMrxvv6",
        "outputId": "6fe41604-ef15-4506-d368-bd8d7eb20f35"
      },
      "execution_count": 36,
      "outputs": [
        {
          "output_type": "stream",
          "name": "stdout",
          "text": [
            "Archive:  glove.6B.zip\n",
            "  inflating: glove.6B.50d.txt        \n",
            "  inflating: glove.6B.100d.txt       \n",
            "  inflating: glove.6B.200d.txt       \n",
            "  inflating: glove.6B.300d.txt       \n"
          ]
        }
      ]
    },
    {
      "cell_type": "code",
      "metadata": {
        "id": "UhdNeNdnAnnX"
      },
      "source": [
        "import keras\n",
        "import tensorflow as tf\n",
        "from tensorflow.keras.preprocessing.text import Tokenizer\n",
        "from tensorflow.keras.preprocessing.sequence import pad_sequences"
      ],
      "execution_count": null,
      "outputs": []
    },
    {
      "cell_type": "code",
      "metadata": {
        "id": "UrU-4x_bBOCD"
      },
      "source": [
        "tokenizer = Tokenizer()\n",
        "\n",
        "tokenizer.fit_on_texts(df['Surrounding Code Context'])"
      ],
      "execution_count": 38,
      "outputs": []
    },
    {
      "cell_type": "code",
      "metadata": {
        "id": "blAe-HnNCbeJ"
      },
      "source": [
        "df_code = tokenizer.texts_to_sequences(df['Surrounding Code Context'])\n",
        "df_comment = tokenizer.texts_to_sequences(df['Comments'])"
      ],
      "execution_count": 39,
      "outputs": []
    },
    {
      "cell_type": "code",
      "metadata": {
        "id": "s7iS0b1jA3Fr"
      },
      "source": [
        "max_len = 50\n",
        "df_code = pad_sequences(df_code, maxlen=max_len, padding='post')\n",
        "df_comment = pad_sequences(df_comment, maxlen=max_len, padding='post')"
      ],
      "execution_count": 40,
      "outputs": []
    },
    {
      "cell_type": "code",
      "metadata": {
        "id": "LB-RfjilDDw-",
        "colab": {
          "base_uri": "https://localhost:8080/"
        },
        "outputId": "cd8314b4-2d4f-460b-949f-9619884b944b"
      },
      "source": [
        "print(df_code.shape,df_comment.shape)"
      ],
      "execution_count": 41,
      "outputs": [
        {
          "output_type": "stream",
          "name": "stdout",
          "text": [
            "(8047, 50) (8047, 50)\n"
          ]
        }
      ]
    },
    {
      "cell_type": "code",
      "metadata": {
        "id": "gNHXa8G4DMcm",
        "colab": {
          "base_uri": "https://localhost:8080/"
        },
        "outputId": "00eb5a35-f1f4-472f-80ab-d8f83257ead7"
      },
      "source": [
        "import numpy as np\n",
        "embeddings_index = {}\n",
        "f = open('/content/glove.6B.100d.txt')\n",
        "for line in f:\n",
        "    values = line.split()\n",
        "    word = values[0]\n",
        "    coefs = np.asarray(values[1:], dtype='float32')\n",
        "    embeddings_index[word] = coefs\n",
        "f.close()\n",
        "\n",
        "print('Found %s word vectors.' % len(embeddings_index))"
      ],
      "execution_count": 42,
      "outputs": [
        {
          "output_type": "stream",
          "name": "stdout",
          "text": [
            "Found 400000 word vectors.\n"
          ]
        }
      ]
    },
    {
      "cell_type": "code",
      "metadata": {
        "id": "rbUbiAQ1D5HI",
        "colab": {
          "base_uri": "https://localhost:8080/"
        },
        "outputId": "758d7240-7e21-4d1b-bb5e-f8415b497f5c"
      },
      "source": [
        "# Adding 1 because of reversed 0 index\n",
        "vocab_size = len(tokenizer.word_index) + 1\n",
        "print('Loaded %s word vectors.' % len(embeddings_index))\n",
        "\n",
        "# Create a weight matrix for words in the training data\n",
        "embedding_matrix = np.zeros((vocab_size, 100))\n",
        "for word, i in tokenizer.word_index.items():\n",
        "    embedding_vector = embeddings_index.get(word)\n",
        "    if embedding_vector is not None:\n",
        "        embedding_matrix[i] = embedding_vector"
      ],
      "execution_count": 43,
      "outputs": [
        {
          "output_type": "stream",
          "name": "stdout",
          "text": [
            "Loaded 400000 word vectors.\n"
          ]
        }
      ]
    },
    {
      "cell_type": "code",
      "metadata": {
        "id": "bjXEFqg5FAkN",
        "colab": {
          "base_uri": "https://localhost:8080/"
        },
        "outputId": "36296804-d125-4bd6-f982-b615a051d71f"
      },
      "source": [
        "print(embedding_matrix.shape)"
      ],
      "execution_count": 44,
      "outputs": [
        {
          "output_type": "stream",
          "name": "stdout",
          "text": [
            "(11076, 100)\n"
          ]
        }
      ]
    },
    {
      "cell_type": "code",
      "metadata": {
        "id": "YlQIPfHpS6PD"
      },
      "source": [
        "from sklearn.model_selection import train_test_split\n",
        "X = np.stack((df_code, df_comment), axis=1)"
      ],
      "execution_count": 45,
      "outputs": []
    },
    {
      "cell_type": "code",
      "metadata": {
        "colab": {
          "base_uri": "https://localhost:8080/"
        },
        "id": "qYn-6a5NVul-",
        "outputId": "c438f0f4-8d8a-4755-d43a-3f9c0c886c74"
      },
      "source": [
        "X"
      ],
      "execution_count": 46,
      "outputs": [
        {
          "output_type": "execute_result",
          "data": {
            "text/plain": [
              "array([[[   3,  104,   48, ...,    0,    0,    0],\n",
              "        [  87,    0,    0, ...,    0,    0,    0]],\n",
              "\n",
              "       [[  85,   90, 1091, ...,    0,    0,    0],\n",
              "        [  87,    0,    0, ...,    0,    0,    0]],\n",
              "\n",
              "       [[  48,   10,   25, ...,    0,    0,    0],\n",
              "        [ 171,    0,    0, ...,    0,    0,    0]],\n",
              "\n",
              "       ...,\n",
              "\n",
              "       [[   1, 2599,    1, ...,    0,    0,    0],\n",
              "        [ 174,   61,  103, ...,    0,    0,    0]],\n",
              "\n",
              "       [[   5, 3868,  787, ...,    0,    0,    0],\n",
              "        [ 787,   60,  333, ...,    0,    0,    0]],\n",
              "\n",
              "       [[   5,   18,    5, ...,    0,    0,    0],\n",
              "        [   2, 1234,  179, ...,    0,    0,    0]]], dtype=int32)"
            ]
          },
          "metadata": {},
          "execution_count": 46
        }
      ]
    },
    {
      "cell_type": "code",
      "metadata": {
        "id": "yl5IKL6GS6PE"
      },
      "source": [
        "y = df['Class']"
      ],
      "execution_count": 47,
      "outputs": []
    },
    {
      "cell_type": "code",
      "metadata": {
        "id": "gOovVjxmVsuC"
      },
      "source": [
        "import random\n",
        "data_p = list(zip(X, y))"
      ],
      "execution_count": 48,
      "outputs": []
    },
    {
      "cell_type": "code",
      "metadata": {
        "id": "Whz0yVJOWQDW"
      },
      "source": [
        "random.shuffle(data_p)"
      ],
      "execution_count": 49,
      "outputs": []
    },
    {
      "cell_type": "code",
      "metadata": {
        "id": "e6nkZ43hYZ6V"
      },
      "source": [
        "train_data = data_p[: int(len(data_p) * 0.8)]\n",
        "test_data = data_p[int(len(data_p) * 0.8):]"
      ],
      "execution_count": 50,
      "outputs": []
    },
    {
      "cell_type": "code",
      "metadata": {
        "id": "xGazx2aLS6PH"
      },
      "source": [
        "X_train, X_test, y_train, y_test = train_test_split(X, y, train_size=0.7, random_state=42)"
      ],
      "execution_count": 97,
      "outputs": []
    },
    {
      "cell_type": "code",
      "metadata": {
        "id": "-v0oAYmPS6PI"
      },
      "source": [
        "train_s1 = X_train[:,0]\n",
        "train_s2 = X_train[:,1]\n",
        "test_s1 = X_test[:,0]\n",
        "test_s2 = X_test[:,1]"
      ],
      "execution_count": 98,
      "outputs": []
    },
    {
      "cell_type": "code",
      "metadata": {
        "id": "Le_cnS8ZfsE_"
      },
      "source": [
        "y_train = np.array(y_train)\n",
        "y_test = np.array(y_test)"
      ],
      "execution_count": 99,
      "outputs": []
    },
    {
      "cell_type": "code",
      "metadata": {
        "id": "SfmuUM27yGm5",
        "colab": {
          "base_uri": "https://localhost:8080/"
        },
        "outputId": "3f3c7095-a4ff-4f19-8095-b4f5bc36b24e"
      },
      "source": [
        "y_test"
      ],
      "execution_count": 100,
      "outputs": [
        {
          "output_type": "execute_result",
          "data": {
            "text/plain": [
              "array([0, 0, 1, ..., 1, 1, 1])"
            ]
          },
          "metadata": {},
          "execution_count": 100
        }
      ]
    },
    {
      "cell_type": "code",
      "metadata": {
        "id": "71teadYWS_y3"
      },
      "source": [
        "y_train = to_categorical(y_train, 2)\n",
        "y_test = to_categorical(y_test, 2)"
      ],
      "execution_count": 105,
      "outputs": []
    },
    {
      "cell_type": "markdown",
      "metadata": {
        "id": "hMlvSwwzIPng"
      },
      "source": [
        "### Siamese Model\n"
      ]
    },
    {
      "cell_type": "code",
      "metadata": {
        "id": "qrWYSVg2cm5V"
      },
      "source": [
        "from keras.models import Model\n",
        "import tensorflow as tf\n",
        "from tensorflow.keras.models import Sequential\n",
        "from tensorflow.keras.regularizers import l2\n",
        "from tensorflow.keras.layers import Input, Embedding, LSTM, Lambda, concatenate, Dense, Bidirectional, Dropout, GRU, Flatten\n",
        "import tensorflow.keras.backend as K\n",
        "from tensorflow.keras.optimizers import Adagrad, Adam, Adadelta\n",
        "from tensorflow.keras.callbacks import ModelCheckpoint\n",
        "from tensorflow.keras.layers import BatchNormalization"
      ],
      "execution_count": 106,
      "outputs": []
    },
    {
      "cell_type": "code",
      "metadata": {
        "id": "gN1HFa6YeZvl"
      },
      "source": [
        "s1_input = Input(shape=(max_len,),dtype='int32')\n",
        "s2_input = Input(shape=(max_len,),dtype='int32')\n",
        "\n",
        "input_dim, output_dim = embedding_matrix.shape\n",
        "embed = Embedding(input_dim, output_dim, weights=[embedding_matrix], trainable=False)\n",
        "embed_s1 = embed(s1_input)\n",
        "embed_s2 = embed(s2_input)\n",
        "\n",
        "num_dense = 50\n",
        "\n",
        "lstm = LSTM(num_dense)\n",
        "\n",
        "f_A = lstm(embed_s1)\n",
        "f_B = lstm(embed_s2)\n",
        "# lstm.layers.trainable = False\n",
        "\n",
        "concat1 = concatenate([f_A, f_B])\n",
        "# concat2 = concatenate([f_B, f_A])\n",
        "\n",
        "sumA2B = Dense(64, activation='relu')(concat1)\n",
        "sumA2B = Dense(32, activation='relu')(sumA2B)\n",
        "\n",
        "Class = Dense(2, activation='softmax', name='entailment_AB')(sumA2B)\n",
        "\n",
        "model = Model(inputs=[s1_input, s2_input], outputs=Class)"
      ],
      "execution_count": 107,
      "outputs": []
    },
    {
      "cell_type": "code",
      "metadata": {
        "colab": {
          "base_uri": "https://localhost:8080/"
        },
        "id": "5qLZ4ZdwpysP",
        "outputId": "d2b4cce1-7b50-4a53-8185-00bc2567c658"
      },
      "source": [
        "opt = Adam(lr=0.001)\n",
        "model.compile(loss='categorical_crossentropy',optimizer=opt, metrics=['acc'])\n",
        "print(model.summary())"
      ],
      "execution_count": 108,
      "outputs": [
        {
          "output_type": "stream",
          "name": "stdout",
          "text": [
            "Model: \"model_2\"\n",
            "__________________________________________________________________________________________________\n",
            " Layer (type)                   Output Shape         Param #     Connected to                     \n",
            "==================================================================================================\n",
            " input_5 (InputLayer)           [(None, 50)]         0           []                               \n",
            "                                                                                                  \n",
            " input_6 (InputLayer)           [(None, 50)]         0           []                               \n",
            "                                                                                                  \n",
            " embedding_2 (Embedding)        (None, 50, 100)      1107600     ['input_5[0][0]',                \n",
            "                                                                  'input_6[0][0]']                \n",
            "                                                                                                  \n",
            " lstm_2 (LSTM)                  (None, 50)           30200       ['embedding_2[0][0]',            \n",
            "                                                                  'embedding_2[1][0]']            \n",
            "                                                                                                  \n",
            " concatenate_2 (Concatenate)    (None, 100)          0           ['lstm_2[0][0]',                 \n",
            "                                                                  'lstm_2[1][0]']                 \n",
            "                                                                                                  \n",
            " dense_4 (Dense)                (None, 64)           6464        ['concatenate_2[0][0]']          \n",
            "                                                                                                  \n",
            " dense_5 (Dense)                (None, 32)           2080        ['dense_4[0][0]']                \n",
            "                                                                                                  \n",
            " entailment_AB (Dense)          (None, 2)            66          ['dense_5[0][0]']                \n",
            "                                                                                                  \n",
            "==================================================================================================\n",
            "Total params: 1,146,410\n",
            "Trainable params: 38,810\n",
            "Non-trainable params: 1,107,600\n",
            "__________________________________________________________________________________________________\n",
            "None\n"
          ]
        }
      ]
    },
    {
      "cell_type": "code",
      "metadata": {
        "colab": {
          "base_uri": "https://localhost:8080/",
          "height": 754
        },
        "id": "QCcxPkCsCd5s",
        "outputId": "e71be0b4-ac08-4155-a7df-f5d32a975be8"
      },
      "source": [
        "tf.keras.utils.plot_model(model, show_layer_names=True, show_shapes=True)"
      ],
      "execution_count": 103,
      "outputs": [
        {
          "output_type": "execute_result",
          "data": {
            "image/png": "[encoded data removed]",
            "text/plain": [
              "<IPython.core.display.Image object>"
            ]
          },
          "metadata": {},
          "execution_count": 103
        }
      ]
    },
    {
      "cell_type": "code",
      "metadata": {
        "colab": {
          "base_uri": "https://localhost:8080/"
        },
        "id": "xgmzxFSiRVnI",
        "outputId": "8e30d253-a3bb-49fc-d972-f326ef079dcb"
      },
      "source": [
        "num_epochs = 20\n",
        "batch_size = 32\n",
        "\n",
        "history = model.fit(x = [train_s1, train_s2], y = y_train, epochs=num_epochs, batch_size=batch_size, verbose=1)"
      ],
      "execution_count": 109,
      "outputs": [
        {
          "output_type": "stream",
          "name": "stdout",
          "text": [
            "Epoch 1/20\n",
            "176/176 [==============================] - 4s 9ms/step - loss: 0.6023 - acc: 0.6731\n",
            "Epoch 2/20\n",
            "176/176 [==============================] - 2s 9ms/step - loss: 0.5485 - acc: 0.7177\n",
            "Epoch 3/20\n",
            "176/176 [==============================] - 2s 9ms/step - loss: 0.5320 - acc: 0.7376\n",
            "Epoch 4/20\n",
            "176/176 [==============================] - 2s 9ms/step - loss: 0.5173 - acc: 0.7413\n",
            "Epoch 5/20\n",
            "176/176 [==============================] - 2s 9ms/step - loss: 0.4957 - acc: 0.7525\n",
            "Epoch 6/20\n",
            "176/176 [==============================] - 2s 9ms/step - loss: 0.4791 - acc: 0.7681\n",
            "Epoch 7/20\n",
            "176/176 [==============================] - 2s 9ms/step - loss: 0.4628 - acc: 0.7812\n",
            "Epoch 8/20\n",
            "176/176 [==============================] - 2s 9ms/step - loss: 0.4460 - acc: 0.7857\n",
            "Epoch 9/20\n",
            "176/176 [==============================] - 2s 9ms/step - loss: 0.4274 - acc: 0.7930\n",
            "Epoch 10/20\n",
            "176/176 [==============================] - 2s 9ms/step - loss: 0.4168 - acc: 0.8002\n",
            "Epoch 11/20\n",
            "176/176 [==============================] - 2s 9ms/step - loss: 0.4027 - acc: 0.8024\n",
            "Epoch 12/20\n",
            "176/176 [==============================] - 2s 9ms/step - loss: 0.3823 - acc: 0.8219\n",
            "Epoch 13/20\n",
            "176/176 [==============================] - 2s 9ms/step - loss: 0.3709 - acc: 0.8230\n",
            "Epoch 14/20\n",
            "176/176 [==============================] - 2s 9ms/step - loss: 0.3720 - acc: 0.8274\n",
            "Epoch 15/20\n",
            "176/176 [==============================] - 2s 9ms/step - loss: 0.3380 - acc: 0.8391\n",
            "Epoch 16/20\n",
            "176/176 [==============================] - 2s 9ms/step - loss: 0.3262 - acc: 0.8480\n",
            "Epoch 17/20\n",
            "176/176 [==============================] - 2s 9ms/step - loss: 0.3235 - acc: 0.8498\n",
            "Epoch 18/20\n",
            "176/176 [==============================] - 2s 9ms/step - loss: 0.3009 - acc: 0.8629\n",
            "Epoch 19/20\n",
            "176/176 [==============================] - 2s 9ms/step - loss: 0.3002 - acc: 0.8608\n",
            "Epoch 20/20\n",
            "176/176 [==============================] - 2s 9ms/step - loss: 0.2876 - acc: 0.8693\n"
          ]
        }
      ]
    },
    {
      "cell_type": "code",
      "metadata": {
        "id": "uecqnpS3TrNu"
      },
      "source": [
        "def plotting(history):\n",
        "    plt.plot(history.history['loss'])\n",
        "    plt.title('LSTM Model loss')\n",
        "    plt.ylabel('Loss')\n",
        "    plt.xlabel('Epoch '+str(num_epochs))\n",
        "    plt.legend(['train'], loc='upper right')\n",
        "    plt.show()"
      ],
      "execution_count": 110,
      "outputs": []
    },
    {
      "cell_type": "code",
      "metadata": {
        "colab": {
          "base_uri": "https://localhost:8080/",
          "height": 295
        },
        "id": "g_E5mctuTrLb",
        "outputId": "3f14f03a-739e-4b3c-bb22-3698d68ba44c"
      },
      "source": [
        "import matplotlib.pyplot as plt\n",
        "plotting(history)"
      ],
      "execution_count": 111,
      "outputs": [
        {
          "output_type": "display_data",
          "data": {
            "text/plain": [
              "<Figure size 432x288 with 1 Axes>"
            ],
            "image/png": "[encoded data removed]"
          },
          "metadata": {
            "needs_background": "light"
          }
        }
      ]
    },
    {
      "cell_type": "code",
      "metadata": {
        "colab": {
          "base_uri": "https://localhost:8080/"
        },
        "id": "Z86_qYGXTrFa",
        "outputId": "5a778848-9011-4591-d6f1-a0f52ff3e8d1"
      },
      "source": [
        "test = model.evaluate([test_s1, test_s2], [y_test], verbose=1)"
      ],
      "execution_count": 112,
      "outputs": [
        {
          "output_type": "stream",
          "name": "stdout",
          "text": [
            "76/76 [==============================] - 1s 6ms/step - loss: 0.7283 - acc: 0.7586\n"
          ]
        }
      ]
    },
    {
      "cell_type": "code",
      "metadata": {
        "id": "ACkH9C8hTrDO",
        "colab": {
          "base_uri": "https://localhost:8080/"
        },
        "outputId": "44d2798c-4c91-43c8-a980-7ac725d7665d"
      },
      "source": [
        "y_pred = model.predict([test_s1, test_s2])\n",
        "yout = y_pred.argmax(axis = 1)\n"
      ],
      "execution_count": 113,
      "outputs": [
        {
          "output_type": "stream",
          "name": "stdout",
          "text": [
            "76/76 [==============================] - 1s 4ms/step\n"
          ]
        }
      ]
    },
    {
      "cell_type": "code",
      "metadata": {
        "colab": {
          "base_uri": "https://localhost:8080/"
        },
        "id": "i5nrNXhGZNc3",
        "outputId": "fd12cca0-d88d-48a4-9eef-b8c57a6ad69e"
      },
      "source": [
        "yout.shape"
      ],
      "execution_count": 114,
      "outputs": [
        {
          "output_type": "execute_result",
          "data": {
            "text/plain": [
              "(2415,)"
            ]
          },
          "metadata": {},
          "execution_count": 114
        }
      ]
    },
    {
      "cell_type": "code",
      "metadata": {
        "colab": {
          "base_uri": "https://localhost:8080/"
        },
        "id": "ezwvTaCiYH-I",
        "outputId": "ff2ae1b8-68bc-472d-d0e1-a42f61900d85"
      },
      "source": [
        "yout"
      ],
      "execution_count": 115,
      "outputs": [
        {
          "output_type": "execute_result",
          "data": {
            "text/plain": [
              "array([0, 1, 1, ..., 0, 0, 1])"
            ]
          },
          "metadata": {},
          "execution_count": 115
        }
      ]
    },
    {
      "cell_type": "code",
      "metadata": {
        "colab": {
          "base_uri": "https://localhost:8080/"
        },
        "id": "JJuP3nCb6oPB",
        "outputId": "db177714-56ba-42e3-a931-5aaebd8c29d6"
      },
      "source": [
        "le.inverse_transform(yout)"
      ],
      "execution_count": 116,
      "outputs": [
        {
          "output_type": "execute_result",
          "data": {
            "text/plain": [
              "array(['Not Useful', 'Useful', 'Useful', ..., 'Not Useful', 'Not Useful',\n",
              "       'Useful'], dtype=object)"
            ]
          },
          "metadata": {},
          "execution_count": 116
        }
      ]
    },
    {
      "cell_type": "code",
      "metadata": {
        "colab": {
          "base_uri": "https://localhost:8080/"
        },
        "id": "7lpSIWt5tapF",
        "outputId": "179ceae8-a3b4-4017-ddf3-f3aa9cbf3a2e"
      },
      "source": [
        "np.unique(yout,return_counts=True)"
      ],
      "execution_count": 117,
      "outputs": [
        {
          "output_type": "execute_result",
          "data": {
            "text/plain": [
              "(array([0, 1]), array([1017, 1398]))"
            ]
          },
          "metadata": {},
          "execution_count": 117
        }
      ]
    },
    {
      "cell_type": "code",
      "metadata": {
        "id": "B_FmOphTr3qY"
      },
      "source": [
        "from sklearn.metrics import classification_report"
      ],
      "execution_count": 118,
      "outputs": []
    },
    {
      "cell_type": "code",
      "metadata": {
        "colab": {
          "base_uri": "https://localhost:8080/"
        },
        "id": "l6TtbnMbTq7G",
        "outputId": "51a0070a-adb8-4fb2-ffa3-09cee8aed65b"
      },
      "source": [
        "# predictions = model.predict([test_s1, test_s2], batch_size=64)\n",
        "print(classification_report(y_test.argmax(axis = 1), yout))"
      ],
      "execution_count": 119,
      "outputs": [
        {
          "output_type": "stream",
          "name": "stdout",
          "text": [
            "              precision    recall  f1-score   support\n",
            "\n",
            "           0       0.77      0.69      0.73      1130\n",
            "           1       0.75      0.82      0.78      1285\n",
            "\n",
            "    accuracy                           0.76      2415\n",
            "   macro avg       0.76      0.75      0.76      2415\n",
            "weighted avg       0.76      0.76      0.76      2415\n",
            "\n"
          ]
        }
      ]
    },
    {
      "cell_type": "code",
      "source": [
        "\n",
        "from sklearn import metrics\n"
      ],
      "metadata": {
        "id": "DWe69I9V_FxD"
      },
      "execution_count": 120,
      "outputs": []
    },
    {
      "cell_type": "code",
      "source": [
        "y_test = y_test.argmax(axis = 1)"
      ],
      "metadata": {
        "id": "r2Q8qhE-Axig"
      },
      "execution_count": 127,
      "outputs": []
    },
    {
      "cell_type": "code",
      "source": [
        "y_test"
      ],
      "metadata": {
        "colab": {
          "base_uri": "https://localhost:8080/"
        },
        "id": "JHRvlxL_CbIC",
        "outputId": "fc7e4e3e-c70a-4041-ed1e-423fe4487275"
      },
      "execution_count": 128,
      "outputs": [
        {
          "output_type": "execute_result",
          "data": {
            "text/plain": [
              "array([0, 0, 1, ..., 1, 1, 1])"
            ]
          },
          "metadata": {},
          "execution_count": 128
        }
      ]
    },
    {
      "cell_type": "code",
      "source": [
        "\n",
        "\n",
        "confusion_matrix = metrics.confusion_matrix(y_test, yout)\n",
        "\n",
        "\n",
        "\n",
        "cm_display = metrics.ConfusionMatrixDisplay(confusion_matrix = confusion_matrix, display_labels = [\"Not Useful\", \"Useful\"])\n",
        "\n"
      ],
      "metadata": {
        "id": "HtkIA6mrAiyt"
      },
      "execution_count": 131,
      "outputs": []
    },
    {
      "cell_type": "code",
      "source": [
        "cm_display.plot()\n",
        "plt.show() "
      ],
      "metadata": {
        "colab": {
          "base_uri": "https://localhost:8080/",
          "height": 279
        },
        "id": "caIKXI7YCkfY",
        "outputId": "6d838919-5878-416e-ea2a-714ac8468a6b"
      },
      "execution_count": 132,
      "outputs": [
        {
          "output_type": "display_data",
          "data": {
            "text/plain": [
              "<Figure size 432x288 with 2 Axes>"
            ],
            "image/png": "[encoded data removed]"
          },
          "metadata": {
            "needs_background": "light"
          }
        }
      ]
    },
    {
      "cell_type": "code",
      "source": [
        "test_set = df[int(len(data_p) * 0.7):]"
      ],
      "metadata": {
        "id": "Cpb6tx3UHeHV"
      },
      "execution_count": 152,
      "outputs": []
    },
    {
      "cell_type": "code",
      "source": [
        "test_set[y_test!=yout]"
      ],
      "metadata": {
        "colab": {
          "base_uri": "https://localhost:8080/",
          "height": 423
        },
        "id": "fwF-0qhkHiWT",
        "outputId": "fcd6cf22-56da-419a-e645-44c20f075c24"
      },
      "execution_count": 155,
      "outputs": [
        {
          "output_type": "execute_result",
          "data": {
            "text/plain": [
              "                                               Comments  \\\n",
              "5633  /*Left axis with text written perpendicular to...   \n",
              "5639  /*Write separate exponential label if mode = 1.*/   \n",
              "5641                            /*Left axis exponent.*/   \n",
              "5647       /*Exponential, i.e. 10^-1, 10^0, 10^1, etc*/   \n",
              "5650  /*--------------------------------------------...   \n",
              "...                                                 ...   \n",
              "8038  /*note that the FETools::get_fe_by_name functi...   \n",
              "8039  /*Decode the support points in one coordinate ...   \n",
              "8043  /*vertex/line/face domination\\n(if fe_other is...   \n",
              "8044  /*there are no requirements between continuous...   \n",
              "8045  /*vertex/line/face domination\\n(if fe_other is...   \n",
              "\n",
              "                               Surrounding Code Context   Class  \n",
              "5633  -10.             {\\n-9.                 plform...  Useful  \n",
              "5639  -10.                         pos_mm + 0.5 * st...  Useful  \n",
              "5641  -5.             }\\n-4.             else\\n-3.  ...  Useful  \n",
              "5647  -10. // These are the functions which are used...  Useful  \n",
              "5650  -10. static void\\n-9. label_box( PLCHAR_VECTOR...  Useful  \n",
              "...                                                 ...     ...  \n",
              "8038  -10.   Point<dim> point;\\n-9.   for (unsigned ...  Useful  \n",
              "8039  -8.   std::ostringstream             namebuf;\\...  Useful  \n",
              "8043  -1.       return FiniteElementDomination::no_r...  Useful  \n",
              "8044  -2.   if (codim > 0)\\n-1.     if (dynamic_cast...  Useful  \n",
              "8045  -1.       return FiniteElementDomination::no_r...  Useful  \n",
              "\n",
              "[583 rows x 3 columns]"
            ],
            "text/html": [
              "\n",
              "  <div id=\"df-ddc36cc8-8b8b-432e-ae33-6d3a31404a1b\">\n",
              "    <div class=\"colab-df-container\">\n",
              "      <div>\n",
              "<style scoped>\n",
              "    .dataframe tbody tr th:only-of-type {\n",
              "        vertical-align: middle;\n",
              "    }\n",
              "\n",
              "    .dataframe tbody tr th {\n",
              "        vertical-align: top;\n",
              "    }\n",
              "\n",
              "    .dataframe thead th {\n",
              "        text-align: right;\n",
              "    }\n",
              "</style>\n",
              "<table border=\"1\" class=\"dataframe\">\n",
              "  <thead>\n",
              "    <tr style=\"text-align: right;\">\n",
              "      <th></th>\n",
              "      <th>Comments</th>\n",
              "      <th>Surrounding Code Context</th>\n",
              "      <th>Class</th>\n",
              "    </tr>\n",
              "  </thead>\n",
              "  <tbody>\n",
              "    <tr>\n",
              "      <th>5633</th>\n",
              "      <td>/*Left axis with text written perpendicular to...</td>\n",
              "      <td>-10.             {\\n-9.                 plform...</td>\n",
              "      <td>Useful</td>\n",
              "    </tr>\n",
              "    <tr>\n",
              "      <th>5639</th>\n",
              "      <td>/*Write separate exponential label if mode = 1.*/</td>\n",
              "      <td>-10.                         pos_mm + 0.5 * st...</td>\n",
              "      <td>Useful</td>\n",
              "    </tr>\n",
              "    <tr>\n",
              "      <th>5641</th>\n",
              "      <td>/*Left axis exponent.*/</td>\n",
              "      <td>-5.             }\\n-4.             else\\n-3.  ...</td>\n",
              "      <td>Useful</td>\n",
              "    </tr>\n",
              "    <tr>\n",
              "      <th>5647</th>\n",
              "      <td>/*Exponential, i.e. 10^-1, 10^0, 10^1, etc*/</td>\n",
              "      <td>-10. // These are the functions which are used...</td>\n",
              "      <td>Useful</td>\n",
              "    </tr>\n",
              "    <tr>\n",
              "      <th>5650</th>\n",
              "      <td>/*--------------------------------------------...</td>\n",
              "      <td>-10. static void\\n-9. label_box( PLCHAR_VECTOR...</td>\n",
              "      <td>Useful</td>\n",
              "    </tr>\n",
              "    <tr>\n",
              "      <th>...</th>\n",
              "      <td>...</td>\n",
              "      <td>...</td>\n",
              "      <td>...</td>\n",
              "    </tr>\n",
              "    <tr>\n",
              "      <th>8038</th>\n",
              "      <td>/*note that the FETools::get_fe_by_name functi...</td>\n",
              "      <td>-10.   Point&lt;dim&gt; point;\\n-9.   for (unsigned ...</td>\n",
              "      <td>Useful</td>\n",
              "    </tr>\n",
              "    <tr>\n",
              "      <th>8039</th>\n",
              "      <td>/*Decode the support points in one coordinate ...</td>\n",
              "      <td>-8.   std::ostringstream             namebuf;\\...</td>\n",
              "      <td>Useful</td>\n",
              "    </tr>\n",
              "    <tr>\n",
              "      <th>8043</th>\n",
              "      <td>/*vertex/line/face domination\\n(if fe_other is...</td>\n",
              "      <td>-1.       return FiniteElementDomination::no_r...</td>\n",
              "      <td>Useful</td>\n",
              "    </tr>\n",
              "    <tr>\n",
              "      <th>8044</th>\n",
              "      <td>/*there are no requirements between continuous...</td>\n",
              "      <td>-2.   if (codim &gt; 0)\\n-1.     if (dynamic_cast...</td>\n",
              "      <td>Useful</td>\n",
              "    </tr>\n",
              "    <tr>\n",
              "      <th>8045</th>\n",
              "      <td>/*vertex/line/face domination\\n(if fe_other is...</td>\n",
              "      <td>-1.       return FiniteElementDomination::no_r...</td>\n",
              "      <td>Useful</td>\n",
              "    </tr>\n",
              "  </tbody>\n",
              "</table>\n",
              "<p>583 rows × 3 columns</p>\n",
              "</div>\n",
              "      <button class=\"colab-df-convert\" onclick=\"convertToInteractive('df-ddc36cc8-8b8b-432e-ae33-6d3a31404a1b')\"\n",
              "              title=\"Convert this dataframe to an interactive table.\"\n",
              "              style=\"display:none;\">\n",
              "        \n",
              "  <svg xmlns=\"http://www.w3.org/2000/svg\" height=\"24px\"viewBox=\"0 0 24 24\"\n",
              "       width=\"24px\">\n",
              "    <path d=\"M0 0h24v24H0V0z\" fill=\"none\"/>\n",
              "    <path d=\"M18.56 5.44l.94 2.06.94-2.06 2.06-.94-2.06-.94-.94-2.06-.94 2.06-2.06.94zm-11 1L8.5 8.5l.94-2.06 2.06-.94-2.06-.94L8.5 2.5l-.94 2.06-2.06.94zm10 10l.94 2.06.94-2.06 2.06-.94-2.06-.94-.94-2.06-.94 2.06-2.06.94z\"/><path d=\"M17.41 7.96l-1.37-1.37c-.4-.4-.92-.59-1.43-.59-.52 0-1.04.2-1.43.59L10.3 9.45l-7.72 7.72c-.78.78-.78 2.05 0 2.83L4 21.41c.39.39.9.59 1.41.59.51 0 1.02-.2 1.41-.59l7.78-7.78 2.81-2.81c.8-.78.8-2.07 0-2.86zM5.41 20L4 18.59l7.72-7.72 1.47 1.35L5.41 20z\"/>\n",
              "  </svg>\n",
              "      </button>\n",
              "      \n",
              "  <style>\n",
              "    .colab-df-container {\n",
              "      display:flex;\n",
              "      flex-wrap:wrap;\n",
              "      gap: 12px;\n",
              "    }\n",
              "\n",
              "    .colab-df-convert {\n",
              "      background-color: #E8F0FE;\n",
              "      border: none;\n",
              "      border-radius: 50%;\n",
              "      cursor: pointer;\n",
              "      display: none;\n",
              "      fill: #1967D2;\n",
              "      height: 32px;\n",
              "      padding: 0 0 0 0;\n",
              "      width: 32px;\n",
              "    }\n",
              "\n",
              "    .colab-df-convert:hover {\n",
              "      background-color: #E2EBFA;\n",
              "      box-shadow: 0px 1px 2px rgba(60, 64, 67, 0.3), 0px 1px 3px 1px rgba(60, 64, 67, 0.15);\n",
              "      fill: #174EA6;\n",
              "    }\n",
              "\n",
              "    [theme=dark] .colab-df-convert {\n",
              "      background-color: #3B4455;\n",
              "      fill: #D2E3FC;\n",
              "    }\n",
              "\n",
              "    [theme=dark] .colab-df-convert:hover {\n",
              "      background-color: #434B5C;\n",
              "      box-shadow: 0px 1px 3px 1px rgba(0, 0, 0, 0.15);\n",
              "      filter: drop-shadow(0px 1px 2px rgba(0, 0, 0, 0.3));\n",
              "      fill: #FFFFFF;\n",
              "    }\n",
              "  </style>\n",
              "\n",
              "      <script>\n",
              "        const buttonEl =\n",
              "          document.querySelector('#df-ddc36cc8-8b8b-432e-ae33-6d3a31404a1b button.colab-df-convert');\n",
              "        buttonEl.style.display =\n",
              "          google.colab.kernel.accessAllowed ? 'block' : 'none';\n",
              "\n",
              "        async function convertToInteractive(key) {\n",
              "          const element = document.querySelector('#df-ddc36cc8-8b8b-432e-ae33-6d3a31404a1b');\n",
              "          const dataTable =\n",
              "            await google.colab.kernel.invokeFunction('convertToInteractive',\n",
              "                                                     [key], {});\n",
              "          if (!dataTable) return;\n",
              "\n",
              "          const docLinkHtml = 'Like what you see? Visit the ' +\n",
              "            '<a target=\"_blank\" href=https://colab.research.google.com/notebooks/data_table.ipynb>data table notebook</a>'\n",
              "            + ' to learn more about interactive tables.';\n",
              "          element.innerHTML = '';\n",
              "          dataTable['output_type'] = 'display_data';\n",
              "          await google.colab.output.renderOutput(dataTable, element);\n",
              "          const docLink = document.createElement('div');\n",
              "          docLink.innerHTML = docLinkHtml;\n",
              "          element.appendChild(docLink);\n",
              "        }\n",
              "      </script>\n",
              "    </div>\n",
              "  </div>\n",
              "  "
            ]
          },
          "metadata": {},
          "execution_count": 155
        }
      ]
    },
    {
      "cell_type": "code",
      "source": [
        "test_set[\"Prediction\"] = le.inverse_transform(yout)"
      ],
      "metadata": {
        "colab": {
          "base_uri": "https://localhost:8080/"
        },
        "id": "IwKnmvcYDRF5",
        "outputId": "e74ed31d-b443-4f32-bddb-82089cf94d1f"
      },
      "execution_count": 156,
      "outputs": [
        {
          "output_type": "stream",
          "name": "stderr",
          "text": [
            "/usr/local/lib/python3.7/dist-packages/ipykernel_launcher.py:1: SettingWithCopyWarning: \n",
            "A value is trying to be set on a copy of a slice from a DataFrame.\n",
            "Try using .loc[row_indexer,col_indexer] = value instead\n",
            "\n",
            "See the caveats in the documentation: https://pandas.pydata.org/pandas-docs/stable/user_guide/indexing.html#returning-a-view-versus-a-copy\n",
            "  \"\"\"Entry point for launching an IPython kernel.\n"
          ]
        }
      ]
    },
    {
      "cell_type": "code",
      "source": [
        "test_set[test_set[\"Class\"]!=test_set['Prediction']]"
      ],
      "metadata": {
        "colab": {
          "base_uri": "https://localhost:8080/",
          "height": 423
        },
        "id": "xpqTyFGKG0Na",
        "outputId": "981004f1-1a44-4bec-9d04-5fc58939f678"
      },
      "execution_count": 158,
      "outputs": [
        {
          "output_type": "execute_result",
          "data": {
            "text/plain": [
              "                                               Comments  \\\n",
              "5632           /*Use the smallest space between ticks*/   \n",
              "5636  /*Right axis with text written perpendicular t...   \n",
              "5638  /*Right axis with text written parallel to edg...   \n",
              "5639  /*Write separate exponential label if mode = 1.*/   \n",
              "5643                    /*Extra space for superscript*/   \n",
              "...                                                 ...   \n",
              "8040  /*Do not consider the discontinuous node for d...   \n",
              "8041  /*We don't need the discontinuous function for...   \n",
              "8042  /*we need an additional DG0-node for a dim-dim...   \n",
              "8044  /*there are no requirements between continuous...   \n",
              "8045  /*vertex/line/face domination\\n(if fe_other is...   \n",
              "\n",
              "                               Surrounding Code Context   Class  Prediction  \n",
              "5632  -3.         x_spacing = vpwxma - vpwxmi;\\n-2. ...  Useful  Not Useful  \n",
              "5636  -10.                     else\\n-9.            ...  Useful  Not Useful  \n",
              "5638  -10.                         plsc->boxbb_ymax ...  Useful  Not Useful  \n",
              "5639  -10.                         pos_mm + 0.5 * st...  Useful  Not Useful  \n",
              "5643  -4.             if ( lmy )\\n-3.             {\\...  Useful  Not Useful  \n",
              "...                                                 ...     ...         ...  \n",
              "8040  -10.         {\\n-9.           if (index == 0)\\...  Useful  Not Useful  \n",
              "8041  -10.          ExcDimensionMismatch(nodal_dofs....  Useful  Not Useful  \n",
              "8042  -10.   riaf.back() = true;\\n-9.   return riaf;...  Useful  Not Useful  \n",
              "8044  -2.   if (codim > 0)\\n-1.     if (dynamic_cast...  Useful  Not Useful  \n",
              "8045  -1.       return FiniteElementDomination::no_r...  Useful  Not Useful  \n",
              "\n",
              "[1017 rows x 4 columns]"
            ],
            "text/html": [
              "\n",
              "  <div id=\"df-7e786ee5-c268-4c8c-ae6e-c9c2ff882213\">\n",
              "    <div class=\"colab-df-container\">\n",
              "      <div>\n",
              "<style scoped>\n",
              "    .dataframe tbody tr th:only-of-type {\n",
              "        vertical-align: middle;\n",
              "    }\n",
              "\n",
              "    .dataframe tbody tr th {\n",
              "        vertical-align: top;\n",
              "    }\n",
              "\n",
              "    .dataframe thead th {\n",
              "        text-align: right;\n",
              "    }\n",
              "</style>\n",
              "<table border=\"1\" class=\"dataframe\">\n",
              "  <thead>\n",
              "    <tr style=\"text-align: right;\">\n",
              "      <th></th>\n",
              "      <th>Comments</th>\n",
              "      <th>Surrounding Code Context</th>\n",
              "      <th>Class</th>\n",
              "      <th>Prediction</th>\n",
              "    </tr>\n",
              "  </thead>\n",
              "  <tbody>\n",
              "    <tr>\n",
              "      <th>5632</th>\n",
              "      <td>/*Use the smallest space between ticks*/</td>\n",
              "      <td>-3.         x_spacing = vpwxma - vpwxmi;\\n-2. ...</td>\n",
              "      <td>Useful</td>\n",
              "      <td>Not Useful</td>\n",
              "    </tr>\n",
              "    <tr>\n",
              "      <th>5636</th>\n",
              "      <td>/*Right axis with text written perpendicular t...</td>\n",
              "      <td>-10.                     else\\n-9.            ...</td>\n",
              "      <td>Useful</td>\n",
              "      <td>Not Useful</td>\n",
              "    </tr>\n",
              "    <tr>\n",
              "      <th>5638</th>\n",
              "      <td>/*Right axis with text written parallel to edg...</td>\n",
              "      <td>-10.                         plsc-&gt;boxbb_ymax ...</td>\n",
              "      <td>Useful</td>\n",
              "      <td>Not Useful</td>\n",
              "    </tr>\n",
              "    <tr>\n",
              "      <th>5639</th>\n",
              "      <td>/*Write separate exponential label if mode = 1.*/</td>\n",
              "      <td>-10.                         pos_mm + 0.5 * st...</td>\n",
              "      <td>Useful</td>\n",
              "      <td>Not Useful</td>\n",
              "    </tr>\n",
              "    <tr>\n",
              "      <th>5643</th>\n",
              "      <td>/*Extra space for superscript*/</td>\n",
              "      <td>-4.             if ( lmy )\\n-3.             {\\...</td>\n",
              "      <td>Useful</td>\n",
              "      <td>Not Useful</td>\n",
              "    </tr>\n",
              "    <tr>\n",
              "      <th>...</th>\n",
              "      <td>...</td>\n",
              "      <td>...</td>\n",
              "      <td>...</td>\n",
              "      <td>...</td>\n",
              "    </tr>\n",
              "    <tr>\n",
              "      <th>8040</th>\n",
              "      <td>/*Do not consider the discontinuous node for d...</td>\n",
              "      <td>-10.         {\\n-9.           if (index == 0)\\...</td>\n",
              "      <td>Useful</td>\n",
              "      <td>Not Useful</td>\n",
              "    </tr>\n",
              "    <tr>\n",
              "      <th>8041</th>\n",
              "      <td>/*We don't need the discontinuous function for...</td>\n",
              "      <td>-10.          ExcDimensionMismatch(nodal_dofs....</td>\n",
              "      <td>Useful</td>\n",
              "      <td>Not Useful</td>\n",
              "    </tr>\n",
              "    <tr>\n",
              "      <th>8042</th>\n",
              "      <td>/*we need an additional DG0-node for a dim-dim...</td>\n",
              "      <td>-10.   riaf.back() = true;\\n-9.   return riaf;...</td>\n",
              "      <td>Useful</td>\n",
              "      <td>Not Useful</td>\n",
              "    </tr>\n",
              "    <tr>\n",
              "      <th>8044</th>\n",
              "      <td>/*there are no requirements between continuous...</td>\n",
              "      <td>-2.   if (codim &gt; 0)\\n-1.     if (dynamic_cast...</td>\n",
              "      <td>Useful</td>\n",
              "      <td>Not Useful</td>\n",
              "    </tr>\n",
              "    <tr>\n",
              "      <th>8045</th>\n",
              "      <td>/*vertex/line/face domination\\n(if fe_other is...</td>\n",
              "      <td>-1.       return FiniteElementDomination::no_r...</td>\n",
              "      <td>Useful</td>\n",
              "      <td>Not Useful</td>\n",
              "    </tr>\n",
              "  </tbody>\n",
              "</table>\n",
              "<p>1017 rows × 4 columns</p>\n",
              "</div>\n",
              "      <button class=\"colab-df-convert\" onclick=\"convertToInteractive('df-7e786ee5-c268-4c8c-ae6e-c9c2ff882213')\"\n",
              "              title=\"Convert this dataframe to an interactive table.\"\n",
              "              style=\"display:none;\">\n",
              "        \n",
              "  <svg xmlns=\"http://www.w3.org/2000/svg\" height=\"24px\"viewBox=\"0 0 24 24\"\n",
              "       width=\"24px\">\n",
              "    <path d=\"M0 0h24v24H0V0z\" fill=\"none\"/>\n",
              "    <path d=\"M18.56 5.44l.94 2.06.94-2.06 2.06-.94-2.06-.94-.94-2.06-.94 2.06-2.06.94zm-11 1L8.5 8.5l.94-2.06 2.06-.94-2.06-.94L8.5 2.5l-.94 2.06-2.06.94zm10 10l.94 2.06.94-2.06 2.06-.94-2.06-.94-.94-2.06-.94 2.06-2.06.94z\"/><path d=\"M17.41 7.96l-1.37-1.37c-.4-.4-.92-.59-1.43-.59-.52 0-1.04.2-1.43.59L10.3 9.45l-7.72 7.72c-.78.78-.78 2.05 0 2.83L4 21.41c.39.39.9.59 1.41.59.51 0 1.02-.2 1.41-.59l7.78-7.78 2.81-2.81c.8-.78.8-2.07 0-2.86zM5.41 20L4 18.59l7.72-7.72 1.47 1.35L5.41 20z\"/>\n",
              "  </svg>\n",
              "      </button>\n",
              "      \n",
              "  <style>\n",
              "    .colab-df-container {\n",
              "      display:flex;\n",
              "      flex-wrap:wrap;\n",
              "      gap: 12px;\n",
              "    }\n",
              "\n",
              "    .colab-df-convert {\n",
              "      background-color: #E8F0FE;\n",
              "      border: none;\n",
              "      border-radius: 50%;\n",
              "      cursor: pointer;\n",
              "      display: none;\n",
              "      fill: #1967D2;\n",
              "      height: 32px;\n",
              "      padding: 0 0 0 0;\n",
              "      width: 32px;\n",
              "    }\n",
              "\n",
              "    .colab-df-convert:hover {\n",
              "      background-color: #E2EBFA;\n",
              "      box-shadow: 0px 1px 2px rgba(60, 64, 67, 0.3), 0px 1px 3px 1px rgba(60, 64, 67, 0.15);\n",
              "      fill: #174EA6;\n",
              "    }\n",
              "\n",
              "    [theme=dark] .colab-df-convert {\n",
              "      background-color: #3B4455;\n",
              "      fill: #D2E3FC;\n",
              "    }\n",
              "\n",
              "    [theme=dark] .colab-df-convert:hover {\n",
              "      background-color: #434B5C;\n",
              "      box-shadow: 0px 1px 3px 1px rgba(0, 0, 0, 0.15);\n",
              "      filter: drop-shadow(0px 1px 2px rgba(0, 0, 0, 0.3));\n",
              "      fill: #FFFFFF;\n",
              "    }\n",
              "  </style>\n",
              "\n",
              "      <script>\n",
              "        const buttonEl =\n",
              "          document.querySelector('#df-7e786ee5-c268-4c8c-ae6e-c9c2ff882213 button.colab-df-convert');\n",
              "        buttonEl.style.display =\n",
              "          google.colab.kernel.accessAllowed ? 'block' : 'none';\n",
              "\n",
              "        async function convertToInteractive(key) {\n",
              "          const element = document.querySelector('#df-7e786ee5-c268-4c8c-ae6e-c9c2ff882213');\n",
              "          const dataTable =\n",
              "            await google.colab.kernel.invokeFunction('convertToInteractive',\n",
              "                                                     [key], {});\n",
              "          if (!dataTable) return;\n",
              "\n",
              "          const docLinkHtml = 'Like what you see? Visit the ' +\n",
              "            '<a target=\"_blank\" href=https://colab.research.google.com/notebooks/data_table.ipynb>data table notebook</a>'\n",
              "            + ' to learn more about interactive tables.';\n",
              "          element.innerHTML = '';\n",
              "          dataTable['output_type'] = 'display_data';\n",
              "          await google.colab.output.renderOutput(dataTable, element);\n",
              "          const docLink = document.createElement('div');\n",
              "          docLink.innerHTML = docLinkHtml;\n",
              "          element.appendChild(docLink);\n",
              "        }\n",
              "      </script>\n",
              "    </div>\n",
              "  </div>\n",
              "  "
            ]
          },
          "metadata": {},
          "execution_count": 158
        }
      ]
    },
    {
      "cell_type": "code",
      "source": [],
      "metadata": {
        "id": "iqnayAn4IPIP"
      },
      "execution_count": null,
      "outputs": []
    }
  ]
}