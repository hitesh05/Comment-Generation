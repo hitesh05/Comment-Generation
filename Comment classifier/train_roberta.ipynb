{
 "cells": [
  {
   "cell_type": "code",
   "execution_count": 1,
   "metadata": {},
   "outputs": [],
   "source": [
    "# !mkdir -p /scratch/sagarsj42/torch-cache\n",
    "# !mkdir -p /scratch/sagarsj42/transformers\n",
    "\n",
    "import os\n",
    "os.chdir('scratch/')\n",
    "os.environ['TORCH_HOME'] = 'scratch/torch-cache'\n",
    "os.environ['TRANSFORMERS_CACHE'] = 'scratch/transformers'\n",
    "os.environ['TOKENIZERS_PARALLELISM'] = 'false'"
   ]
  },
  {
   "cell_type": "code",
   "execution_count": 2,
   "metadata": {},
   "outputs": [
    {
     "name": "stdout",
     "output_type": "stream",
     "text": [
      "/home/hitesh/Documents/IIIT-H/IRE/major-project/sample/sagar/scratch\n"
     ]
    }
   ],
   "source": [
    "!pwd"
   ]
  },
  {
   "cell_type": "code",
   "execution_count": 3,
   "metadata": {},
   "outputs": [],
   "source": [
    "from functools import partial\n",
    "\n",
    "import pandas as pd\n",
    "import numpy as np\n",
    "from sklearn.model_selection import train_test_split\n",
    "from datasets import DatasetDict, load_dataset, load_metric\n",
    "\n",
    "from transformers import AutoTokenizer, AutoModelForSequenceClassification\n",
    "from transformers import DataCollatorWithPadding, Trainer, TrainingArguments"
   ]
  },
  {
   "cell_type": "code",
   "execution_count": 4,
   "metadata": {},
   "outputs": [],
   "source": [
    "TRAIN_DATA_FILE = 'irse.train.csv'\n",
    "DEV_DATA_FILE = 'irse.dev.csv'\n",
    "TEST_DATA_FILE = 'irse.test.csv'\n",
    "GIVEN_TEST_FILE = 'irse.given-test.csv'\n",
    "MODEL_KEY = 'microsoft/deberta-base'\n",
    "EXP_NAME = 'irse-deberta'\n",
    "\n",
    "TRAIN_BATCH_SIZE = 4\n",
    "EVAL_BATCH_SIZE = 16\n",
    "ACCUMULATE_GRAD_STEPS = 2\n",
    "N_EPOCHS = 5\n",
    "LEARNING_RATE = 6e-5\n",
    "SCHEDULER_TYPE = 'cosine'\n",
    "LR_WARMUP_RATIO = 0.4\n",
    "LOG_STEPS = 50\n",
    "SEED = 43419"
   ]
  },
  {
   "cell_type": "code",
   "execution_count": 5,
   "metadata": {},
   "outputs": [
    {
     "data": {
      "application/vnd.jupyter.widget-view+json": {
       "model_id": "81f5f96edc5c49f29fc0d18cef524783",
       "version_major": 2,
       "version_minor": 0
      },
      "text/plain": [
       "Downloading:   0%|          | 0.00/559M [00:00<?, ?B/s]"
      ]
     },
     "metadata": {},
     "output_type": "display_data"
    },
    {
     "name": "stderr",
     "output_type": "stream",
     "text": [
      "Some weights of the model checkpoint at microsoft/deberta-base were not used when initializing DebertaForSequenceClassification: ['lm_predictions.lm_head.dense.bias', 'lm_predictions.lm_head.bias', 'lm_predictions.lm_head.LayerNorm.weight', 'lm_predictions.lm_head.LayerNorm.bias', 'lm_predictions.lm_head.dense.weight']\n",
      "- This IS expected if you are initializing DebertaForSequenceClassification from the checkpoint of a model trained on another task or with another architecture (e.g. initializing a BertForSequenceClassification model from a BertForPreTraining model).\n",
      "- This IS NOT expected if you are initializing DebertaForSequenceClassification from the checkpoint of a model that you expect to be exactly identical (initializing a BertForSequenceClassification model from a BertForSequenceClassification model).\n",
      "Some weights of DebertaForSequenceClassification were not initialized from the model checkpoint at microsoft/deberta-base and are newly initialized: ['classifier.weight', 'classifier.bias', 'pooler.dense.bias', 'pooler.dense.weight']\n",
      "You should probably TRAIN this model on a down-stream task to be able to use it for predictions and inference.\n"
     ]
    },
    {
     "data": {
      "text/plain": [
       "(PreTrainedTokenizerFast(name_or_path='microsoft/deberta-base', vocab_size=50265, model_max_len=512, is_fast=True, padding_side='right', truncation_side='right', special_tokens={'bos_token': AddedToken(\"[CLS]\", rstrip=False, lstrip=False, single_word=False, normalized=True), 'eos_token': AddedToken(\"[SEP]\", rstrip=False, lstrip=False, single_word=False, normalized=True), 'unk_token': AddedToken(\"[UNK]\", rstrip=False, lstrip=False, single_word=False, normalized=True), 'sep_token': AddedToken(\"[SEP]\", rstrip=False, lstrip=False, single_word=False, normalized=True), 'pad_token': AddedToken(\"[PAD]\", rstrip=False, lstrip=False, single_word=False, normalized=True), 'cls_token': AddedToken(\"[CLS]\", rstrip=False, lstrip=False, single_word=False, normalized=True), 'mask_token': AddedToken(\"[MASK]\", rstrip=False, lstrip=True, single_word=False, normalized=True)}),\n",
       " DebertaForSequenceClassification(\n",
       "   (deberta): DebertaModel(\n",
       "     (embeddings): DebertaEmbeddings(\n",
       "       (word_embeddings): Embedding(50265, 768, padding_idx=0)\n",
       "       (LayerNorm): DebertaLayerNorm()\n",
       "       (dropout): StableDropout()\n",
       "     )\n",
       "     (encoder): DebertaEncoder(\n",
       "       (layer): ModuleList(\n",
       "         (0): DebertaLayer(\n",
       "           (attention): DebertaAttention(\n",
       "             (self): DisentangledSelfAttention(\n",
       "               (in_proj): Linear(in_features=768, out_features=2304, bias=False)\n",
       "               (pos_dropout): StableDropout()\n",
       "               (pos_proj): Linear(in_features=768, out_features=768, bias=False)\n",
       "               (pos_q_proj): Linear(in_features=768, out_features=768, bias=True)\n",
       "               (dropout): StableDropout()\n",
       "             )\n",
       "             (output): DebertaSelfOutput(\n",
       "               (dense): Linear(in_features=768, out_features=768, bias=True)\n",
       "               (LayerNorm): DebertaLayerNorm()\n",
       "               (dropout): StableDropout()\n",
       "             )\n",
       "           )\n",
       "           (intermediate): DebertaIntermediate(\n",
       "             (dense): Linear(in_features=768, out_features=3072, bias=True)\n",
       "             (intermediate_act_fn): GELUActivation()\n",
       "           )\n",
       "           (output): DebertaOutput(\n",
       "             (dense): Linear(in_features=3072, out_features=768, bias=True)\n",
       "             (LayerNorm): DebertaLayerNorm()\n",
       "             (dropout): StableDropout()\n",
       "           )\n",
       "         )\n",
       "         (1): DebertaLayer(\n",
       "           (attention): DebertaAttention(\n",
       "             (self): DisentangledSelfAttention(\n",
       "               (in_proj): Linear(in_features=768, out_features=2304, bias=False)\n",
       "               (pos_dropout): StableDropout()\n",
       "               (pos_proj): Linear(in_features=768, out_features=768, bias=False)\n",
       "               (pos_q_proj): Linear(in_features=768, out_features=768, bias=True)\n",
       "               (dropout): StableDropout()\n",
       "             )\n",
       "             (output): DebertaSelfOutput(\n",
       "               (dense): Linear(in_features=768, out_features=768, bias=True)\n",
       "               (LayerNorm): DebertaLayerNorm()\n",
       "               (dropout): StableDropout()\n",
       "             )\n",
       "           )\n",
       "           (intermediate): DebertaIntermediate(\n",
       "             (dense): Linear(in_features=768, out_features=3072, bias=True)\n",
       "             (intermediate_act_fn): GELUActivation()\n",
       "           )\n",
       "           (output): DebertaOutput(\n",
       "             (dense): Linear(in_features=3072, out_features=768, bias=True)\n",
       "             (LayerNorm): DebertaLayerNorm()\n",
       "             (dropout): StableDropout()\n",
       "           )\n",
       "         )\n",
       "         (2): DebertaLayer(\n",
       "           (attention): DebertaAttention(\n",
       "             (self): DisentangledSelfAttention(\n",
       "               (in_proj): Linear(in_features=768, out_features=2304, bias=False)\n",
       "               (pos_dropout): StableDropout()\n",
       "               (pos_proj): Linear(in_features=768, out_features=768, bias=False)\n",
       "               (pos_q_proj): Linear(in_features=768, out_features=768, bias=True)\n",
       "               (dropout): StableDropout()\n",
       "             )\n",
       "             (output): DebertaSelfOutput(\n",
       "               (dense): Linear(in_features=768, out_features=768, bias=True)\n",
       "               (LayerNorm): DebertaLayerNorm()\n",
       "               (dropout): StableDropout()\n",
       "             )\n",
       "           )\n",
       "           (intermediate): DebertaIntermediate(\n",
       "             (dense): Linear(in_features=768, out_features=3072, bias=True)\n",
       "             (intermediate_act_fn): GELUActivation()\n",
       "           )\n",
       "           (output): DebertaOutput(\n",
       "             (dense): Linear(in_features=3072, out_features=768, bias=True)\n",
       "             (LayerNorm): DebertaLayerNorm()\n",
       "             (dropout): StableDropout()\n",
       "           )\n",
       "         )\n",
       "         (3): DebertaLayer(\n",
       "           (attention): DebertaAttention(\n",
       "             (self): DisentangledSelfAttention(\n",
       "               (in_proj): Linear(in_features=768, out_features=2304, bias=False)\n",
       "               (pos_dropout): StableDropout()\n",
       "               (pos_proj): Linear(in_features=768, out_features=768, bias=False)\n",
       "               (pos_q_proj): Linear(in_features=768, out_features=768, bias=True)\n",
       "               (dropout): StableDropout()\n",
       "             )\n",
       "             (output): DebertaSelfOutput(\n",
       "               (dense): Linear(in_features=768, out_features=768, bias=True)\n",
       "               (LayerNorm): DebertaLayerNorm()\n",
       "               (dropout): StableDropout()\n",
       "             )\n",
       "           )\n",
       "           (intermediate): DebertaIntermediate(\n",
       "             (dense): Linear(in_features=768, out_features=3072, bias=True)\n",
       "             (intermediate_act_fn): GELUActivation()\n",
       "           )\n",
       "           (output): DebertaOutput(\n",
       "             (dense): Linear(in_features=3072, out_features=768, bias=True)\n",
       "             (LayerNorm): DebertaLayerNorm()\n",
       "             (dropout): StableDropout()\n",
       "           )\n",
       "         )\n",
       "         (4): DebertaLayer(\n",
       "           (attention): DebertaAttention(\n",
       "             (self): DisentangledSelfAttention(\n",
       "               (in_proj): Linear(in_features=768, out_features=2304, bias=False)\n",
       "               (pos_dropout): StableDropout()\n",
       "               (pos_proj): Linear(in_features=768, out_features=768, bias=False)\n",
       "               (pos_q_proj): Linear(in_features=768, out_features=768, bias=True)\n",
       "               (dropout): StableDropout()\n",
       "             )\n",
       "             (output): DebertaSelfOutput(\n",
       "               (dense): Linear(in_features=768, out_features=768, bias=True)\n",
       "               (LayerNorm): DebertaLayerNorm()\n",
       "               (dropout): StableDropout()\n",
       "             )\n",
       "           )\n",
       "           (intermediate): DebertaIntermediate(\n",
       "             (dense): Linear(in_features=768, out_features=3072, bias=True)\n",
       "             (intermediate_act_fn): GELUActivation()\n",
       "           )\n",
       "           (output): DebertaOutput(\n",
       "             (dense): Linear(in_features=3072, out_features=768, bias=True)\n",
       "             (LayerNorm): DebertaLayerNorm()\n",
       "             (dropout): StableDropout()\n",
       "           )\n",
       "         )\n",
       "         (5): DebertaLayer(\n",
       "           (attention): DebertaAttention(\n",
       "             (self): DisentangledSelfAttention(\n",
       "               (in_proj): Linear(in_features=768, out_features=2304, bias=False)\n",
       "               (pos_dropout): StableDropout()\n",
       "               (pos_proj): Linear(in_features=768, out_features=768, bias=False)\n",
       "               (pos_q_proj): Linear(in_features=768, out_features=768, bias=True)\n",
       "               (dropout): StableDropout()\n",
       "             )\n",
       "             (output): DebertaSelfOutput(\n",
       "               (dense): Linear(in_features=768, out_features=768, bias=True)\n",
       "               (LayerNorm): DebertaLayerNorm()\n",
       "               (dropout): StableDropout()\n",
       "             )\n",
       "           )\n",
       "           (intermediate): DebertaIntermediate(\n",
       "             (dense): Linear(in_features=768, out_features=3072, bias=True)\n",
       "             (intermediate_act_fn): GELUActivation()\n",
       "           )\n",
       "           (output): DebertaOutput(\n",
       "             (dense): Linear(in_features=3072, out_features=768, bias=True)\n",
       "             (LayerNorm): DebertaLayerNorm()\n",
       "             (dropout): StableDropout()\n",
       "           )\n",
       "         )\n",
       "         (6): DebertaLayer(\n",
       "           (attention): DebertaAttention(\n",
       "             (self): DisentangledSelfAttention(\n",
       "               (in_proj): Linear(in_features=768, out_features=2304, bias=False)\n",
       "               (pos_dropout): StableDropout()\n",
       "               (pos_proj): Linear(in_features=768, out_features=768, bias=False)\n",
       "               (pos_q_proj): Linear(in_features=768, out_features=768, bias=True)\n",
       "               (dropout): StableDropout()\n",
       "             )\n",
       "             (output): DebertaSelfOutput(\n",
       "               (dense): Linear(in_features=768, out_features=768, bias=True)\n",
       "               (LayerNorm): DebertaLayerNorm()\n",
       "               (dropout): StableDropout()\n",
       "             )\n",
       "           )\n",
       "           (intermediate): DebertaIntermediate(\n",
       "             (dense): Linear(in_features=768, out_features=3072, bias=True)\n",
       "             (intermediate_act_fn): GELUActivation()\n",
       "           )\n",
       "           (output): DebertaOutput(\n",
       "             (dense): Linear(in_features=3072, out_features=768, bias=True)\n",
       "             (LayerNorm): DebertaLayerNorm()\n",
       "             (dropout): StableDropout()\n",
       "           )\n",
       "         )\n",
       "         (7): DebertaLayer(\n",
       "           (attention): DebertaAttention(\n",
       "             (self): DisentangledSelfAttention(\n",
       "               (in_proj): Linear(in_features=768, out_features=2304, bias=False)\n",
       "               (pos_dropout): StableDropout()\n",
       "               (pos_proj): Linear(in_features=768, out_features=768, bias=False)\n",
       "               (pos_q_proj): Linear(in_features=768, out_features=768, bias=True)\n",
       "               (dropout): StableDropout()\n",
       "             )\n",
       "             (output): DebertaSelfOutput(\n",
       "               (dense): Linear(in_features=768, out_features=768, bias=True)\n",
       "               (LayerNorm): DebertaLayerNorm()\n",
       "               (dropout): StableDropout()\n",
       "             )\n",
       "           )\n",
       "           (intermediate): DebertaIntermediate(\n",
       "             (dense): Linear(in_features=768, out_features=3072, bias=True)\n",
       "             (intermediate_act_fn): GELUActivation()\n",
       "           )\n",
       "           (output): DebertaOutput(\n",
       "             (dense): Linear(in_features=3072, out_features=768, bias=True)\n",
       "             (LayerNorm): DebertaLayerNorm()\n",
       "             (dropout): StableDropout()\n",
       "           )\n",
       "         )\n",
       "         (8): DebertaLayer(\n",
       "           (attention): DebertaAttention(\n",
       "             (self): DisentangledSelfAttention(\n",
       "               (in_proj): Linear(in_features=768, out_features=2304, bias=False)\n",
       "               (pos_dropout): StableDropout()\n",
       "               (pos_proj): Linear(in_features=768, out_features=768, bias=False)\n",
       "               (pos_q_proj): Linear(in_features=768, out_features=768, bias=True)\n",
       "               (dropout): StableDropout()\n",
       "             )\n",
       "             (output): DebertaSelfOutput(\n",
       "               (dense): Linear(in_features=768, out_features=768, bias=True)\n",
       "               (LayerNorm): DebertaLayerNorm()\n",
       "               (dropout): StableDropout()\n",
       "             )\n",
       "           )\n",
       "           (intermediate): DebertaIntermediate(\n",
       "             (dense): Linear(in_features=768, out_features=3072, bias=True)\n",
       "             (intermediate_act_fn): GELUActivation()\n",
       "           )\n",
       "           (output): DebertaOutput(\n",
       "             (dense): Linear(in_features=3072, out_features=768, bias=True)\n",
       "             (LayerNorm): DebertaLayerNorm()\n",
       "             (dropout): StableDropout()\n",
       "           )\n",
       "         )\n",
       "         (9): DebertaLayer(\n",
       "           (attention): DebertaAttention(\n",
       "             (self): DisentangledSelfAttention(\n",
       "               (in_proj): Linear(in_features=768, out_features=2304, bias=False)\n",
       "               (pos_dropout): StableDropout()\n",
       "               (pos_proj): Linear(in_features=768, out_features=768, bias=False)\n",
       "               (pos_q_proj): Linear(in_features=768, out_features=768, bias=True)\n",
       "               (dropout): StableDropout()\n",
       "             )\n",
       "             (output): DebertaSelfOutput(\n",
       "               (dense): Linear(in_features=768, out_features=768, bias=True)\n",
       "               (LayerNorm): DebertaLayerNorm()\n",
       "               (dropout): StableDropout()\n",
       "             )\n",
       "           )\n",
       "           (intermediate): DebertaIntermediate(\n",
       "             (dense): Linear(in_features=768, out_features=3072, bias=True)\n",
       "             (intermediate_act_fn): GELUActivation()\n",
       "           )\n",
       "           (output): DebertaOutput(\n",
       "             (dense): Linear(in_features=3072, out_features=768, bias=True)\n",
       "             (LayerNorm): DebertaLayerNorm()\n",
       "             (dropout): StableDropout()\n",
       "           )\n",
       "         )\n",
       "         (10): DebertaLayer(\n",
       "           (attention): DebertaAttention(\n",
       "             (self): DisentangledSelfAttention(\n",
       "               (in_proj): Linear(in_features=768, out_features=2304, bias=False)\n",
       "               (pos_dropout): StableDropout()\n",
       "               (pos_proj): Linear(in_features=768, out_features=768, bias=False)\n",
       "               (pos_q_proj): Linear(in_features=768, out_features=768, bias=True)\n",
       "               (dropout): StableDropout()\n",
       "             )\n",
       "             (output): DebertaSelfOutput(\n",
       "               (dense): Linear(in_features=768, out_features=768, bias=True)\n",
       "               (LayerNorm): DebertaLayerNorm()\n",
       "               (dropout): StableDropout()\n",
       "             )\n",
       "           )\n",
       "           (intermediate): DebertaIntermediate(\n",
       "             (dense): Linear(in_features=768, out_features=3072, bias=True)\n",
       "             (intermediate_act_fn): GELUActivation()\n",
       "           )\n",
       "           (output): DebertaOutput(\n",
       "             (dense): Linear(in_features=3072, out_features=768, bias=True)\n",
       "             (LayerNorm): DebertaLayerNorm()\n",
       "             (dropout): StableDropout()\n",
       "           )\n",
       "         )\n",
       "         (11): DebertaLayer(\n",
       "           (attention): DebertaAttention(\n",
       "             (self): DisentangledSelfAttention(\n",
       "               (in_proj): Linear(in_features=768, out_features=2304, bias=False)\n",
       "               (pos_dropout): StableDropout()\n",
       "               (pos_proj): Linear(in_features=768, out_features=768, bias=False)\n",
       "               (pos_q_proj): Linear(in_features=768, out_features=768, bias=True)\n",
       "               (dropout): StableDropout()\n",
       "             )\n",
       "             (output): DebertaSelfOutput(\n",
       "               (dense): Linear(in_features=768, out_features=768, bias=True)\n",
       "               (LayerNorm): DebertaLayerNorm()\n",
       "               (dropout): StableDropout()\n",
       "             )\n",
       "           )\n",
       "           (intermediate): DebertaIntermediate(\n",
       "             (dense): Linear(in_features=768, out_features=3072, bias=True)\n",
       "             (intermediate_act_fn): GELUActivation()\n",
       "           )\n",
       "           (output): DebertaOutput(\n",
       "             (dense): Linear(in_features=3072, out_features=768, bias=True)\n",
       "             (LayerNorm): DebertaLayerNorm()\n",
       "             (dropout): StableDropout()\n",
       "           )\n",
       "         )\n",
       "       )\n",
       "       (rel_embeddings): Embedding(1024, 768)\n",
       "     )\n",
       "   )\n",
       "   (pooler): ContextPooler(\n",
       "     (dense): Linear(in_features=768, out_features=768, bias=True)\n",
       "     (dropout): StableDropout()\n",
       "   )\n",
       "   (classifier): Linear(in_features=768, out_features=2, bias=True)\n",
       "   (dropout): StableDropout()\n",
       " ))"
      ]
     },
     "execution_count": 5,
     "metadata": {},
     "output_type": "execute_result"
    }
   ],
   "source": [
    "tokenizer = AutoTokenizer.from_pretrained(MODEL_KEY)\n",
    "model = AutoModelForSequenceClassification.from_pretrained(MODEL_KEY)\n",
    "\n",
    "tokenizer, model"
   ]
  },
  {
   "cell_type": "code",
   "execution_count": 6,
   "metadata": {},
   "outputs": [
    {
     "data": {
      "text/plain": [
       "('[SEP]', 512)"
      ]
     },
     "execution_count": 6,
     "metadata": {},
     "output_type": "execute_result"
    }
   ],
   "source": [
    "tokenizer.model_max_length = 512\n",
    "\n",
    "tokenizer.sep_token, tokenizer.model_max_length"
   ]
  },
  {
   "cell_type": "code",
   "execution_count": 7,
   "metadata": {},
   "outputs": [
    {
     "name": "stderr",
     "output_type": "stream",
     "text": [
      "Using custom data configuration default-beab39c7f7b93254\n"
     ]
    },
    {
     "name": "stdout",
     "output_type": "stream",
     "text": [
      "Downloading and preparing dataset csv/default to /home/hitesh/.cache/huggingface/datasets/csv/default-beab39c7f7b93254/0.0.0/6b34fb8fcf56f7c8ba51dc895bfa2bfbe43546f190a60fcf74bb5e8afdcc2317...\n"
     ]
    },
    {
     "data": {
      "application/vnd.jupyter.widget-view+json": {
       "model_id": "f6854291477b4d718f81e5c0c73d6bd7",
       "version_major": 2,
       "version_minor": 0
      },
      "text/plain": [
       "Downloading data files:   0%|          | 0/4 [00:00<?, ?it/s]"
      ]
     },
     "metadata": {},
     "output_type": "display_data"
    },
    {
     "data": {
      "application/vnd.jupyter.widget-view+json": {
       "model_id": "9ac216792653467d9e6eb89197091d70",
       "version_major": 2,
       "version_minor": 0
      },
      "text/plain": [
       "Extracting data files:   0%|          | 0/4 [00:00<?, ?it/s]"
      ]
     },
     "metadata": {},
     "output_type": "display_data"
    },
    {
     "data": {
      "application/vnd.jupyter.widget-view+json": {
       "model_id": "22bdbd11f9654de8ae169a1975215c33",
       "version_major": 2,
       "version_minor": 0
      },
      "text/plain": [
       "0 tables [00:00, ? tables/s]"
      ]
     },
     "metadata": {},
     "output_type": "display_data"
    },
    {
     "data": {
      "application/vnd.jupyter.widget-view+json": {
       "model_id": "e2e5a210912644de956bbee59412b828",
       "version_major": 2,
       "version_minor": 0
      },
      "text/plain": [
       "0 tables [00:00, ? tables/s]"
      ]
     },
     "metadata": {},
     "output_type": "display_data"
    },
    {
     "data": {
      "application/vnd.jupyter.widget-view+json": {
       "model_id": "722cfb76dd4c4e4e8770afe8a2429c96",
       "version_major": 2,
       "version_minor": 0
      },
      "text/plain": [
       "0 tables [00:00, ? tables/s]"
      ]
     },
     "metadata": {},
     "output_type": "display_data"
    },
    {
     "data": {
      "application/vnd.jupyter.widget-view+json": {
       "model_id": "96d8c81860724f29905eae4f381c7786",
       "version_major": 2,
       "version_minor": 0
      },
      "text/plain": [
       "0 tables [00:00, ? tables/s]"
      ]
     },
     "metadata": {},
     "output_type": "display_data"
    },
    {
     "name": "stdout",
     "output_type": "stream",
     "text": [
      "Dataset csv downloaded and prepared to /home/hitesh/.cache/huggingface/datasets/csv/default-beab39c7f7b93254/0.0.0/6b34fb8fcf56f7c8ba51dc895bfa2bfbe43546f190a60fcf74bb5e8afdcc2317. Subsequent calls will reuse this data.\n"
     ]
    },
    {
     "data": {
      "application/vnd.jupyter.widget-view+json": {
       "model_id": "33baf29647554e5fa21d7793e02ef55b",
       "version_major": 2,
       "version_minor": 0
      },
      "text/plain": [
       "  0%|          | 0/4 [00:00<?, ?it/s]"
      ]
     },
     "metadata": {},
     "output_type": "display_data"
    },
    {
     "data": {
      "text/plain": [
       "DatasetDict({\n",
       "    train: Dataset({\n",
       "        features: ['Comments', 'Surrounding Code Context', 'Class', 'label'],\n",
       "        num_rows: 5354\n",
       "    })\n",
       "    dev: Dataset({\n",
       "        features: ['Comments', 'Surrounding Code Context', 'Class', 'label'],\n",
       "        num_rows: 595\n",
       "    })\n",
       "    test: Dataset({\n",
       "        features: ['Comments', 'Surrounding Code Context', 'Class', 'label'],\n",
       "        num_rows: 678\n",
       "    })\n",
       "    giventest: Dataset({\n",
       "        features: ['Comments', 'Surrounding Code Context', 'Class', 'label'],\n",
       "        num_rows: 1001\n",
       "    })\n",
       "})"
      ]
     },
     "execution_count": 7,
     "metadata": {},
     "output_type": "execute_result"
    }
   ],
   "source": [
    "data_files = {\n",
    "    'train': TRAIN_DATA_FILE,\n",
    "    'dev': DEV_DATA_FILE,\n",
    "    'test': TEST_DATA_FILE,\n",
    "    'giventest': GIVEN_TEST_FILE\n",
    "}\n",
    "ds = load_dataset('csv', data_files=data_files)\n",
    "\n",
    "ds"
   ]
  },
  {
   "cell_type": "code",
   "execution_count": 8,
   "metadata": {},
   "outputs": [],
   "source": [
    "def tokenizer_func(batch, tokenizer):\n",
    "    text = [batch['Comments'][i] + tokenizer.sep_token + batch['Surrounding Code Context'][i] \n",
    "        for i in range(len(batch['Comments']))]\n",
    "    tok = tokenizer(text, max_length=tokenizer.model_max_length, truncation=True, \n",
    "        padding=True, return_attention_mask=True)\n",
    "\n",
    "    return tok"
   ]
  },
  {
   "cell_type": "code",
   "execution_count": 9,
   "metadata": {},
   "outputs": [
    {
     "data": {
      "application/vnd.jupyter.widget-view+json": {
       "model_id": "0c8a755e89094d0fa66f11e582986340",
       "version_major": 2,
       "version_minor": 0
      },
      "text/plain": [
       "  0%|          | 0/1339 [00:00<?, ?ba/s]"
      ]
     },
     "metadata": {},
     "output_type": "display_data"
    },
    {
     "data": {
      "application/vnd.jupyter.widget-view+json": {
       "model_id": "6fae365a76af48aca450dc590d46ced8",
       "version_major": 2,
       "version_minor": 0
      },
      "text/plain": [
       "  0%|          | 0/38 [00:00<?, ?ba/s]"
      ]
     },
     "metadata": {},
     "output_type": "display_data"
    },
    {
     "data": {
      "application/vnd.jupyter.widget-view+json": {
       "model_id": "46522d5c1c924c0ab5bd5f6e6637d767",
       "version_major": 2,
       "version_minor": 0
      },
      "text/plain": [
       "  0%|          | 0/43 [00:00<?, ?ba/s]"
      ]
     },
     "metadata": {},
     "output_type": "display_data"
    },
    {
     "data": {
      "application/vnd.jupyter.widget-view+json": {
       "model_id": "1cfc765a8c89497cb09cb0653cf94330",
       "version_major": 2,
       "version_minor": 0
      },
      "text/plain": [
       "  0%|          | 0/63 [00:00<?, ?ba/s]"
      ]
     },
     "metadata": {},
     "output_type": "display_data"
    },
    {
     "data": {
      "text/plain": [
       "DatasetDict({\n",
       "    train: Dataset({\n",
       "        features: ['Comments', 'Surrounding Code Context', 'Class', 'label', 'input_ids', 'token_type_ids', 'attention_mask'],\n",
       "        num_rows: 5354\n",
       "    })\n",
       "    dev: Dataset({\n",
       "        features: ['Comments', 'Surrounding Code Context', 'Class', 'label', 'input_ids', 'token_type_ids', 'attention_mask'],\n",
       "        num_rows: 595\n",
       "    })\n",
       "    test: Dataset({\n",
       "        features: ['Comments', 'Surrounding Code Context', 'Class', 'label', 'input_ids', 'token_type_ids', 'attention_mask'],\n",
       "        num_rows: 678\n",
       "    })\n",
       "    giventest: Dataset({\n",
       "        features: ['Comments', 'Surrounding Code Context', 'Class', 'label', 'input_ids', 'token_type_ids', 'attention_mask'],\n",
       "        num_rows: 1001\n",
       "    })\n",
       "})"
      ]
     },
     "execution_count": 9,
     "metadata": {},
     "output_type": "execute_result"
    }
   ],
   "source": [
    "tokenizer_partial = partial(tokenizer_func, tokenizer=tokenizer)\n",
    "ds_tok = dict()\n",
    "\n",
    "ds_tok['train'] = ds['train'].map(tokenizer_partial, batched=True, batch_size=TRAIN_BATCH_SIZE, \n",
    "    load_from_cache_file=False)\n",
    "ds_tok['dev'] = ds['dev'].map(tokenizer_partial, batched=True, batch_size=EVAL_BATCH_SIZE, \n",
    "    load_from_cache_file=False)\n",
    "ds_tok['test'] = ds['test'].map(tokenizer_partial, batched=True, batch_size=EVAL_BATCH_SIZE, \n",
    "    load_from_cache_file=False)\n",
    "ds_tok['giventest'] = ds['giventest'].map(tokenizer_partial, batched=True, batch_size=EVAL_BATCH_SIZE, \n",
    "    load_from_cache_file=False)\n",
    "ds_tok = DatasetDict(ds_tok)\n",
    "\n",
    "ds_tok"
   ]
  },
  {
   "cell_type": "code",
   "execution_count": 10,
   "metadata": {},
   "outputs": [],
   "source": [
    "def compute_metrics(eval_pred):\n",
    "    logits, labels = eval_pred\n",
    "    predictions = np.argmax(logits, axis=-1)\n",
    "    scores = logits[:, -1]\n",
    "    \n",
    "    acc_metric = load_metric('accuracy')\n",
    "    f1_metric = load_metric('f1')\n",
    "    mcc_metric = load_metric('matthews_correlation')\n",
    "    roc_metric = load_metric('roc_auc')\n",
    "\n",
    "    metrics_dict = {\n",
    "        'accuracy': acc_metric.compute(predictions=predictions, references=labels)['accuracy'],\n",
    "        'f1_score': f1_metric.compute(predictions=predictions, references=labels)['f1'],\n",
    "        'matthews_cc': mcc_metric.compute(predictions=predictions, references=labels)['matthews_correlation'],\n",
    "        'roc_auc_score': roc_metric.compute(prediction_scores=scores, references=labels)['roc_auc'],\n",
    "    }\n",
    "\n",
    "    return metrics_dict"
   ]
  },
  {
   "cell_type": "code",
   "execution_count": 11,
   "metadata": {},
   "outputs": [
    {
     "data": {
      "text/plain": [
       "TrainingArguments(\n",
       "_n_gpu=0,\n",
       "adafactor=False,\n",
       "adam_beta1=0.9,\n",
       "adam_beta2=0.999,\n",
       "adam_epsilon=1e-08,\n",
       "auto_find_batch_size=False,\n",
       "bf16=False,\n",
       "bf16_full_eval=False,\n",
       "data_seed=None,\n",
       "dataloader_drop_last=False,\n",
       "dataloader_num_workers=0,\n",
       "dataloader_pin_memory=True,\n",
       "ddp_bucket_cap_mb=None,\n",
       "ddp_find_unused_parameters=None,\n",
       "ddp_timeout=1800,\n",
       "debug=[],\n",
       "deepspeed=None,\n",
       "disable_tqdm=False,\n",
       "do_eval=True,\n",
       "do_predict=False,\n",
       "do_train=True,\n",
       "eval_accumulation_steps=None,\n",
       "eval_delay=0,\n",
       "eval_steps=None,\n",
       "evaluation_strategy=epoch,\n",
       "fp16=False,\n",
       "fp16_backend=auto,\n",
       "fp16_full_eval=False,\n",
       "fp16_opt_level=O1,\n",
       "fsdp=[],\n",
       "fsdp_min_num_params=0,\n",
       "fsdp_transformer_layer_cls_to_wrap=None,\n",
       "full_determinism=False,\n",
       "gradient_accumulation_steps=2,\n",
       "gradient_checkpointing=False,\n",
       "greater_is_better=True,\n",
       "group_by_length=False,\n",
       "half_precision_backend=auto,\n",
       "hub_model_id=None,\n",
       "hub_private_repo=False,\n",
       "hub_strategy=every_save,\n",
       "hub_token=<HUB_TOKEN>,\n",
       "ignore_data_skip=False,\n",
       "include_inputs_for_metrics=False,\n",
       "jit_mode_eval=False,\n",
       "label_names=None,\n",
       "label_smoothing_factor=0.0,\n",
       "learning_rate=6e-05,\n",
       "length_column_name=length,\n",
       "load_best_model_at_end=True,\n",
       "local_rank=-1,\n",
       "log_level=passive,\n",
       "log_level_replica=passive,\n",
       "log_on_each_node=True,\n",
       "logging_dir=irse-deberta/runs/Nov07_12-45-13_hitesh,\n",
       "logging_first_step=False,\n",
       "logging_nan_inf_filter=True,\n",
       "logging_steps=50,\n",
       "logging_strategy=steps,\n",
       "lr_scheduler_type=cosine,\n",
       "max_grad_norm=1.0,\n",
       "max_steps=-1,\n",
       "metric_for_best_model=f1_score,\n",
       "mp_parameters=,\n",
       "no_cuda=False,\n",
       "num_train_epochs=5,\n",
       "optim=adamw_hf,\n",
       "output_dir=irse-deberta,\n",
       "overwrite_output_dir=True,\n",
       "past_index=-1,\n",
       "per_device_eval_batch_size=16,\n",
       "per_device_train_batch_size=4,\n",
       "prediction_loss_only=False,\n",
       "push_to_hub=False,\n",
       "push_to_hub_model_id=None,\n",
       "push_to_hub_organization=None,\n",
       "push_to_hub_token=<PUSH_TO_HUB_TOKEN>,\n",
       "ray_scope=last,\n",
       "remove_unused_columns=True,\n",
       "report_to=[],\n",
       "resume_from_checkpoint=None,\n",
       "run_name=irse-deberta,\n",
       "save_on_each_node=False,\n",
       "save_steps=500,\n",
       "save_strategy=epoch,\n",
       "save_total_limit=None,\n",
       "seed=43419,\n",
       "sharded_ddp=[],\n",
       "skip_memory_metrics=True,\n",
       "tf32=None,\n",
       "torchdynamo=None,\n",
       "tpu_metrics_debug=False,\n",
       "tpu_num_cores=None,\n",
       "use_ipex=False,\n",
       "use_legacy_prediction_loop=False,\n",
       "use_mps_device=False,\n",
       "warmup_ratio=0.4,\n",
       "warmup_steps=0,\n",
       "weight_decay=0.0,\n",
       "xpu_backend=None,\n",
       ")"
      ]
     },
     "execution_count": 11,
     "metadata": {},
     "output_type": "execute_result"
    }
   ],
   "source": [
    "training_args = TrainingArguments(\n",
    "    output_dir=EXP_NAME,\n",
    "    run_name=EXP_NAME,\n",
    "    overwrite_output_dir=True,\n",
    "    do_train=True,\n",
    "    do_eval=True,\n",
    "    per_device_train_batch_size=TRAIN_BATCH_SIZE,\n",
    "    per_device_eval_batch_size=EVAL_BATCH_SIZE,\n",
    "    gradient_accumulation_steps=ACCUMULATE_GRAD_STEPS,\n",
    "    num_train_epochs=N_EPOCHS,\n",
    "    learning_rate=LEARNING_RATE,\n",
    "    lr_scheduler_type=SCHEDULER_TYPE,\n",
    "    warmup_ratio=LR_WARMUP_RATIO,\n",
    "    evaluation_strategy='epoch',\n",
    "    logging_steps=LOG_STEPS,\n",
    "    save_strategy='epoch',\n",
    "    metric_for_best_model='f1_score',\n",
    "    greater_is_better=True,\n",
    "    load_best_model_at_end=True,\n",
    "    no_cuda=False,\n",
    "    seed=SEED,\n",
    "    fp16=False,\n",
    "    dataloader_drop_last=False\n",
    ")\n",
    "\n",
    "training_args"
   ]
  },
  {
   "cell_type": "code",
   "execution_count": 12,
   "metadata": {},
   "outputs": [
    {
     "data": {
      "text/plain": [
       "DataCollatorWithPadding(tokenizer=PreTrainedTokenizerFast(name_or_path='microsoft/deberta-base', vocab_size=50265, model_max_len=512, is_fast=True, padding_side='right', truncation_side='right', special_tokens={'bos_token': AddedToken(\"[CLS]\", rstrip=False, lstrip=False, single_word=False, normalized=True), 'eos_token': AddedToken(\"[SEP]\", rstrip=False, lstrip=False, single_word=False, normalized=True), 'unk_token': AddedToken(\"[UNK]\", rstrip=False, lstrip=False, single_word=False, normalized=True), 'sep_token': AddedToken(\"[SEP]\", rstrip=False, lstrip=False, single_word=False, normalized=True), 'pad_token': AddedToken(\"[PAD]\", rstrip=False, lstrip=False, single_word=False, normalized=True), 'cls_token': AddedToken(\"[CLS]\", rstrip=False, lstrip=False, single_word=False, normalized=True), 'mask_token': AddedToken(\"[MASK]\", rstrip=False, lstrip=True, single_word=False, normalized=True)}), padding=True, max_length=None, pad_to_multiple_of=None, return_tensors='pt')"
      ]
     },
     "execution_count": 12,
     "metadata": {},
     "output_type": "execute_result"
    }
   ],
   "source": [
    "data_collator = DataCollatorWithPadding(tokenizer=tokenizer, padding=True)\n",
    "\n",
    "data_collator"
   ]
  },
  {
   "cell_type": "code",
   "execution_count": 13,
   "metadata": {},
   "outputs": [
    {
     "data": {
      "text/plain": [
       "<transformers.trainer.Trainer at 0x7f2c33844610>"
      ]
     },
     "execution_count": 13,
     "metadata": {},
     "output_type": "execute_result"
    }
   ],
   "source": [
    "trainer = Trainer(\n",
    "    model=model,\n",
    "    args=training_args,\n",
    "    data_collator=data_collator,\n",
    "    train_dataset=ds_tok['train'],\n",
    "    eval_dataset=ds_tok['dev'],\n",
    "    compute_metrics=compute_metrics\n",
    ")\n",
    "\n",
    "trainer"
   ]
  },
  {
   "cell_type": "code",
   "execution_count": 14,
   "metadata": {},
   "outputs": [
    {
     "name": "stderr",
     "output_type": "stream",
     "text": [
      "The following columns in the training set don't have a corresponding argument in `DebertaForSequenceClassification.forward` and have been ignored: Surrounding Code Context, Class, Comments. If Surrounding Code Context, Class, Comments are not expected by `DebertaForSequenceClassification.forward`,  you can safely ignore this message.\n",
      "/home/hitesh/transformers/src/transformers/optimization.py:306: FutureWarning: This implementation of AdamW is deprecated and will be removed in a future version. Use the PyTorch implementation torch.optim.AdamW instead, or set `no_deprecation_warning=True` to disable this warning\n",
      "  warnings.warn(\n",
      "***** Running training *****\n",
      "  Num examples = 5354\n",
      "  Num Epochs = 5\n",
      "  Instantaneous batch size per device = 4\n",
      "  Total train batch size (w. parallel, distributed & accumulation) = 8\n",
      "  Gradient Accumulation steps = 2\n",
      "  Total optimization steps = 3345\n",
      "  Number of trainable parameters = 139193858\n"
     ]
    },
    {
     "data": {
      "application/vnd.jupyter.widget-view+json": {
       "model_id": "99f94e9d809344e6bbc0725508e2cc22",
       "version_major": 2,
       "version_minor": 0
      },
      "text/plain": [
       "  0%|          | 0/3345 [00:00<?, ?it/s]"
      ]
     },
     "metadata": {},
     "output_type": "display_data"
    },
    {
     "name": "stderr",
     "output_type": "stream",
     "text": [
      "You're using a DebertaTokenizerFast tokenizer. Please note that with a fast tokenizer, using the `__call__` method is faster than using a method to encode the text followed by a call to the `pad` method to get a padded encoding.\n"
     ]
    },
    {
     "ename": "",
     "evalue": "",
     "output_type": "error",
     "traceback": [
      "\u001b[1;31mCanceled future for execute_request message before replies were done"
     ]
    },
    {
     "ename": "",
     "evalue": "",
     "output_type": "error",
     "traceback": [
      "\u001b[1;31mThe Kernel crashed while executing code in the the current cell or a previous cell. Please review the code in the cell(s) to identify a possible cause of the failure. Click <a href='https://aka.ms/vscodeJupyterKernelCrash'>here</a> for more info. View Jupyter <a href='command:jupyter.viewOutput'>log</a> for further details."
     ]
    }
   ],
   "source": [
    "trainer.train()"
   ]
  },
  {
   "cell_type": "code",
   "execution_count": 14,
   "metadata": {},
   "outputs": [
    {
     "name": "stderr",
     "output_type": "stream",
     "text": [
      "The following columns in the test set  don't have a corresponding argument in `DebertaForSequenceClassification.forward` and have been ignored: Class, Surrounding Code Context, Comments. If Class, Surrounding Code Context, Comments are not expected by `DebertaForSequenceClassification.forward`,  you can safely ignore this message.\n",
      "***** Running Prediction *****\n",
      "  Num examples = 678\n",
      "  Batch size = 16\n"
     ]
    },
    {
     "data": {
      "text/html": [
       "\n",
       "    <div>\n",
       "      \n",
       "      <progress value='106' max='43' style='width:300px; height:20px; vertical-align: middle;'></progress>\n",
       "      [43/43 00:34]\n",
       "    </div>\n",
       "    "
      ],
      "text/plain": [
       "<IPython.core.display.HTML object>"
      ]
     },
     "metadata": {},
     "output_type": "display_data"
    },
    {
     "data": {
      "text/plain": [
       "((678, 2),\n",
       " (678,),\n",
       " {'test_loss': 0.029858974739909172,\n",
       "  'test_accuracy': 0.9941002949852508,\n",
       "  'test_f1_score': 0.9926470588235294,\n",
       "  'test_matthews_cc': 0.987739677290841,\n",
       "  'test_roc_auc_score': 0.9999728666395333,\n",
       "  'test_runtime': 16.4625,\n",
       "  'test_samples_per_second': 41.185,\n",
       "  'test_steps_per_second': 2.612})"
      ]
     },
     "execution_count": 14,
     "metadata": {},
     "output_type": "execute_result"
    }
   ],
   "source": [
    "preds, labels, metrics = trainer.predict(ds_tok['test'])\n",
    "\n",
    "preds.shape, labels.shape, metrics"
   ]
  },
  {
   "cell_type": "code",
   "execution_count": 15,
   "metadata": {},
   "outputs": [
    {
     "name": "stderr",
     "output_type": "stream",
     "text": [
      "The following columns in the test set  don't have a corresponding argument in `DebertaForSequenceClassification.forward` and have been ignored: Class, Surrounding Code Context, Comments. If Class, Surrounding Code Context, Comments are not expected by `DebertaForSequenceClassification.forward`,  you can safely ignore this message.\n",
      "***** Running Prediction *****\n",
      "  Num examples = 1001\n",
      "  Batch size = 16\n"
     ]
    },
    {
     "data": {
      "text/plain": [
       "((1001, 2),\n",
       " (1001,),\n",
       " {'test_loss': 0.020255913957953453,\n",
       "  'test_accuracy': 0.996003996003996,\n",
       "  'test_f1_score': 0.99288256227758,\n",
       "  'test_matthews_cc': 0.9901169518111971,\n",
       "  'test_roc_auc_score': 0.999985204036339,\n",
       "  'test_runtime': 21.8853,\n",
       "  'test_samples_per_second': 45.739,\n",
       "  'test_steps_per_second': 2.879})"
      ]
     },
     "execution_count": 15,
     "metadata": {},
     "output_type": "execute_result"
    }
   ],
   "source": [
    "gpreds, glabels, gmetrics = trainer.predict(ds_tok['giventest'])\n",
    "\n",
    "gpreds.shape, glabels.shape, gmetrics"
   ]
  },
  {
   "cell_type": "code",
   "execution_count": 16,
   "metadata": {},
   "outputs": [
    {
     "name": "stdout",
     "output_type": "stream",
     "text": [
      "<class 'pandas.core.frame.DataFrame'>\n",
      "RangeIndex: 1001 entries, 0 to 1000\n",
      "Data columns (total 4 columns):\n",
      " #   Column                    Non-Null Count  Dtype \n",
      "---  ------                    --------------  ----- \n",
      " 0   Comments                  1001 non-null   object\n",
      " 1   Surrounding Code Context  1001 non-null   object\n",
      " 2   Class                     1001 non-null   object\n",
      " 3   Predicted Class           1001 non-null   object\n",
      "dtypes: object(4)\n",
      "memory usage: 31.4+ KB\n",
      "None\n"
     ]
    },
    {
     "data": {
      "text/html": [
       "<div>\n",
       "<style scoped>\n",
       "    .dataframe tbody tr th:only-of-type {\n",
       "        vertical-align: middle;\n",
       "    }\n",
       "\n",
       "    .dataframe tbody tr th {\n",
       "        vertical-align: top;\n",
       "    }\n",
       "\n",
       "    .dataframe thead th {\n",
       "        text-align: right;\n",
       "    }\n",
       "</style>\n",
       "<table border=\"1\" class=\"dataframe\">\n",
       "  <thead>\n",
       "    <tr style=\"text-align: right;\">\n",
       "      <th></th>\n",
       "      <th>Comments</th>\n",
       "      <th>Surrounding Code Context</th>\n",
       "      <th>Class</th>\n",
       "      <th>Predicted Class</th>\n",
       "    </tr>\n",
       "  </thead>\n",
       "  <tbody>\n",
       "    <tr>\n",
       "      <th>0</th>\n",
       "      <td>/*READ_INT_FUNCTIONS*/</td>\n",
       "      <td>-5.    if (png_ptr != NULL)\\n-4.       png_war...</td>\n",
       "      <td>Not Useful</td>\n",
       "      <td>Not Useful</td>\n",
       "    </tr>\n",
       "    <tr>\n",
       "      <th>1</th>\n",
       "      <td>/*Put the chunk name into png_ptr-&gt;chunk_name.*/</td>\n",
       "      <td>-2.    png_read_data(png_ptr, buf, 8);\\n-1.   ...</td>\n",
       "      <td>Not Useful</td>\n",
       "      <td>Not Useful</td>\n",
       "    </tr>\n",
       "    <tr>\n",
       "      <th>2</th>\n",
       "      <td>/*critical*/</td>\n",
       "      <td>-8. png_crc_read(png_structrp png_ptr, png_byt...</td>\n",
       "      <td>Not Useful</td>\n",
       "      <td>Not Useful</td>\n",
       "    </tr>\n",
       "    <tr>\n",
       "      <th>3</th>\n",
       "      <td>/*READ_iCCP|iTXt|pCAL|sCAL|sPLT|tEXt|zTXt|SEQU...</td>\n",
       "      <td>-9.       {\\n-8.          if (warn != 0)\\n-7. ...</td>\n",
       "      <td>Not Useful</td>\n",
       "      <td>Not Useful</td>\n",
       "    </tr>\n",
       "    <tr>\n",
       "      <th>4</th>\n",
       "      <td>/*ZLIB_VERNUM &gt;= 0x1240*/</td>\n",
       "      <td>#if ZLIB_VERNUM &gt;= 0x1240\\n\\n/*ZLIB_VERNUM &gt;= ...</td>\n",
       "      <td>Not Useful</td>\n",
       "      <td>Not Useful</td>\n",
       "    </tr>\n",
       "  </tbody>\n",
       "</table>\n",
       "</div>"
      ],
      "text/plain": [
       "                                            Comments  \\\n",
       "0                             /*READ_INT_FUNCTIONS*/   \n",
       "1   /*Put the chunk name into png_ptr->chunk_name.*/   \n",
       "2                                       /*critical*/   \n",
       "3  /*READ_iCCP|iTXt|pCAL|sCAL|sPLT|tEXt|zTXt|SEQU...   \n",
       "4                          /*ZLIB_VERNUM >= 0x1240*/   \n",
       "\n",
       "                            Surrounding Code Context       Class  \\\n",
       "0  -5.    if (png_ptr != NULL)\\n-4.       png_war...  Not Useful   \n",
       "1  -2.    png_read_data(png_ptr, buf, 8);\\n-1.   ...  Not Useful   \n",
       "2  -8. png_crc_read(png_structrp png_ptr, png_byt...  Not Useful   \n",
       "3  -9.       {\\n-8.          if (warn != 0)\\n-7. ...  Not Useful   \n",
       "4  #if ZLIB_VERNUM >= 0x1240\\n\\n/*ZLIB_VERNUM >= ...  Not Useful   \n",
       "\n",
       "  Predicted Class  \n",
       "0      Not Useful  \n",
       "1      Not Useful  \n",
       "2      Not Useful  \n",
       "3      Not Useful  \n",
       "4      Not Useful  "
      ]
     },
     "execution_count": 16,
     "metadata": {},
     "output_type": "execute_result"
    }
   ],
   "source": [
    "classes = ['Not Useful', 'Useful']\n",
    "output_df = pd.read_csv(GIVEN_TEST_FILE)\n",
    "output_df.drop('label', axis=1, inplace=True)\n",
    "output_df['Predicted Class'] = list(map(lambda v: classes[v], gpreds.argmax(axis=1)))\n",
    "\n",
    "print(output_df.info())\n",
    "\n",
    "output_df.head()"
   ]
  },
  {
   "cell_type": "code",
   "execution_count": 17,
   "metadata": {},
   "outputs": [
    {
     "data": {
      "text/html": [
       "<div>\n",
       "<style scoped>\n",
       "    .dataframe tbody tr th:only-of-type {\n",
       "        vertical-align: middle;\n",
       "    }\n",
       "\n",
       "    .dataframe tbody tr th {\n",
       "        vertical-align: top;\n",
       "    }\n",
       "\n",
       "    .dataframe thead th {\n",
       "        text-align: right;\n",
       "    }\n",
       "</style>\n",
       "<table border=\"1\" class=\"dataframe\">\n",
       "  <thead>\n",
       "    <tr style=\"text-align: right;\">\n",
       "      <th></th>\n",
       "      <th>Comments</th>\n",
       "      <th>Surrounding Code Context</th>\n",
       "      <th>Class</th>\n",
       "      <th>Predicted Class</th>\n",
       "    </tr>\n",
       "  </thead>\n",
       "  <tbody>\n",
       "    <tr>\n",
       "      <th>0</th>\n",
       "      <td>/*READ_INT_FUNCTIONS*/</td>\n",
       "      <td>-5.    if (png_ptr != NULL)\\n-4.       png_war...</td>\n",
       "      <td>Not Useful</td>\n",
       "      <td>Not Useful</td>\n",
       "    </tr>\n",
       "    <tr>\n",
       "      <th>1</th>\n",
       "      <td>/*Put the chunk name into png_ptr-&gt;chunk_name.*/</td>\n",
       "      <td>-2.    png_read_data(png_ptr, buf, 8);\\n-1.   ...</td>\n",
       "      <td>Not Useful</td>\n",
       "      <td>Not Useful</td>\n",
       "    </tr>\n",
       "    <tr>\n",
       "      <th>2</th>\n",
       "      <td>/*critical*/</td>\n",
       "      <td>-8. png_crc_read(png_structrp png_ptr, png_byt...</td>\n",
       "      <td>Not Useful</td>\n",
       "      <td>Not Useful</td>\n",
       "    </tr>\n",
       "    <tr>\n",
       "      <th>3</th>\n",
       "      <td>/*READ_iCCP|iTXt|pCAL|sCAL|sPLT|tEXt|zTXt|SEQU...</td>\n",
       "      <td>-9.       {\\n-8.          if (warn != 0)\\n-7. ...</td>\n",
       "      <td>Not Useful</td>\n",
       "      <td>Not Useful</td>\n",
       "    </tr>\n",
       "    <tr>\n",
       "      <th>4</th>\n",
       "      <td>/*ZLIB_VERNUM &gt;= 0x1240*/</td>\n",
       "      <td>#if ZLIB_VERNUM &gt;= 0x1240\\n\\n/*ZLIB_VERNUM &gt;= ...</td>\n",
       "      <td>Not Useful</td>\n",
       "      <td>Not Useful</td>\n",
       "    </tr>\n",
       "    <tr>\n",
       "      <th>...</th>\n",
       "      <td>...</td>\n",
       "      <td>...</td>\n",
       "      <td>...</td>\n",
       "      <td>...</td>\n",
       "    </tr>\n",
       "    <tr>\n",
       "      <th>996</th>\n",
       "      <td>/*The following document where the background ...</td>\n",
       "      <td>-5. #define PNG_CMAP_NONE      0\\n\\n /*The fol...</td>\n",
       "      <td>Useful</td>\n",
       "      <td>Useful</td>\n",
       "    </tr>\n",
       "    <tr>\n",
       "      <th>997</th>\n",
       "      <td>/*Do all the *safe* initialization - 'safe' me...</td>\n",
       "      <td>-1. } png_image_read_control;\\n/* Do all the *...</td>\n",
       "      <td>Useful</td>\n",
       "      <td>Useful</td>\n",
       "    </tr>\n",
       "    <tr>\n",
       "      <th>998</th>\n",
       "      <td>/*And set the rest of the structure to NULL to...</td>\n",
       "      <td>-10.  * called from here must *not* call png_m...</td>\n",
       "      <td>Useful</td>\n",
       "      <td>Useful</td>\n",
       "    </tr>\n",
       "    <tr>\n",
       "      <th>999</th>\n",
       "      <td>/*Use png_ptr here, not info_ptr, because by e...</td>\n",
       "      <td>-8. static png_uint_32\\n-7. png_image_format(p...</td>\n",
       "      <td>Useful</td>\n",
       "      <td>Useful</td>\n",
       "    </tr>\n",
       "    <tr>\n",
       "      <th>1000</th>\n",
       "      <td>/*Is the given gamma significantly different f...</td>\n",
       "      <td>-10.     * is unclear.\\n-9.     */\\n-8.    els...</td>\n",
       "      <td>Useful</td>\n",
       "      <td>Useful</td>\n",
       "    </tr>\n",
       "  </tbody>\n",
       "</table>\n",
       "<p>997 rows × 4 columns</p>\n",
       "</div>"
      ],
      "text/plain": [
       "                                               Comments  \\\n",
       "0                                /*READ_INT_FUNCTIONS*/   \n",
       "1      /*Put the chunk name into png_ptr->chunk_name.*/   \n",
       "2                                          /*critical*/   \n",
       "3     /*READ_iCCP|iTXt|pCAL|sCAL|sPLT|tEXt|zTXt|SEQU...   \n",
       "4                             /*ZLIB_VERNUM >= 0x1240*/   \n",
       "...                                                 ...   \n",
       "996   /*The following document where the background ...   \n",
       "997   /*Do all the *safe* initialization - 'safe' me...   \n",
       "998   /*And set the rest of the structure to NULL to...   \n",
       "999   /*Use png_ptr here, not info_ptr, because by e...   \n",
       "1000  /*Is the given gamma significantly different f...   \n",
       "\n",
       "                               Surrounding Code Context       Class  \\\n",
       "0     -5.    if (png_ptr != NULL)\\n-4.       png_war...  Not Useful   \n",
       "1     -2.    png_read_data(png_ptr, buf, 8);\\n-1.   ...  Not Useful   \n",
       "2     -8. png_crc_read(png_structrp png_ptr, png_byt...  Not Useful   \n",
       "3     -9.       {\\n-8.          if (warn != 0)\\n-7. ...  Not Useful   \n",
       "4     #if ZLIB_VERNUM >= 0x1240\\n\\n/*ZLIB_VERNUM >= ...  Not Useful   \n",
       "...                                                 ...         ...   \n",
       "996   -5. #define PNG_CMAP_NONE      0\\n\\n /*The fol...      Useful   \n",
       "997   -1. } png_image_read_control;\\n/* Do all the *...      Useful   \n",
       "998   -10.  * called from here must *not* call png_m...      Useful   \n",
       "999   -8. static png_uint_32\\n-7. png_image_format(p...      Useful   \n",
       "1000  -10.     * is unclear.\\n-9.     */\\n-8.    els...      Useful   \n",
       "\n",
       "     Predicted Class  \n",
       "0         Not Useful  \n",
       "1         Not Useful  \n",
       "2         Not Useful  \n",
       "3         Not Useful  \n",
       "4         Not Useful  \n",
       "...              ...  \n",
       "996           Useful  \n",
       "997           Useful  \n",
       "998           Useful  \n",
       "999           Useful  \n",
       "1000          Useful  \n",
       "\n",
       "[997 rows x 4 columns]"
      ]
     },
     "execution_count": 17,
     "metadata": {},
     "output_type": "execute_result"
    }
   ],
   "source": [
    "output_df[output_df['Class'] == output_df['Predicted Class']]"
   ]
  },
  {
   "cell_type": "code",
   "execution_count": 18,
   "metadata": {},
   "outputs": [
    {
     "data": {
      "text/html": [
       "<div>\n",
       "<style scoped>\n",
       "    .dataframe tbody tr th:only-of-type {\n",
       "        vertical-align: middle;\n",
       "    }\n",
       "\n",
       "    .dataframe tbody tr th {\n",
       "        vertical-align: top;\n",
       "    }\n",
       "\n",
       "    .dataframe thead th {\n",
       "        text-align: right;\n",
       "    }\n",
       "</style>\n",
       "<table border=\"1\" class=\"dataframe\">\n",
       "  <thead>\n",
       "    <tr style=\"text-align: right;\">\n",
       "      <th></th>\n",
       "      <th>Comments</th>\n",
       "      <th>Surrounding Code Context</th>\n",
       "      <th>Class</th>\n",
       "      <th>Predicted Class</th>\n",
       "    </tr>\n",
       "  </thead>\n",
       "  <tbody>\n",
       "    <tr>\n",
       "      <th>0</th>\n",
       "      <td>/*READ_INT_FUNCTIONS*/</td>\n",
       "      <td>-5.    if (png_ptr != NULL)\\n-4.       png_war...</td>\n",
       "      <td>Not Useful</td>\n",
       "      <td>Not Useful</td>\n",
       "    </tr>\n",
       "    <tr>\n",
       "      <th>1</th>\n",
       "      <td>/*Put the chunk name into png_ptr-&gt;chunk_name.*/</td>\n",
       "      <td>-2.    png_read_data(png_ptr, buf, 8);\\n-1.   ...</td>\n",
       "      <td>Not Useful</td>\n",
       "      <td>Not Useful</td>\n",
       "    </tr>\n",
       "    <tr>\n",
       "      <th>2</th>\n",
       "      <td>/*critical*/</td>\n",
       "      <td>-8. png_crc_read(png_structrp png_ptr, png_byt...</td>\n",
       "      <td>Not Useful</td>\n",
       "      <td>Not Useful</td>\n",
       "    </tr>\n",
       "    <tr>\n",
       "      <th>3</th>\n",
       "      <td>/*READ_iCCP|iTXt|pCAL|sCAL|sPLT|tEXt|zTXt|SEQU...</td>\n",
       "      <td>-9.       {\\n-8.          if (warn != 0)\\n-7. ...</td>\n",
       "      <td>Not Useful</td>\n",
       "      <td>Not Useful</td>\n",
       "    </tr>\n",
       "    <tr>\n",
       "      <th>4</th>\n",
       "      <td>/*ZLIB_VERNUM &gt;= 0x1240*/</td>\n",
       "      <td>#if ZLIB_VERNUM &gt;= 0x1240\\n\\n/*ZLIB_VERNUM &gt;= ...</td>\n",
       "      <td>Not Useful</td>\n",
       "      <td>Not Useful</td>\n",
       "    </tr>\n",
       "    <tr>\n",
       "      <th>...</th>\n",
       "      <td>...</td>\n",
       "      <td>...</td>\n",
       "      <td>...</td>\n",
       "      <td>...</td>\n",
       "    </tr>\n",
       "    <tr>\n",
       "      <th>996</th>\n",
       "      <td>/*The following document where the background ...</td>\n",
       "      <td>-5. #define PNG_CMAP_NONE      0\\n\\n /*The fol...</td>\n",
       "      <td>Useful</td>\n",
       "      <td>Useful</td>\n",
       "    </tr>\n",
       "    <tr>\n",
       "      <th>997</th>\n",
       "      <td>/*Do all the *safe* initialization - 'safe' me...</td>\n",
       "      <td>-1. } png_image_read_control;\\n/* Do all the *...</td>\n",
       "      <td>Useful</td>\n",
       "      <td>Useful</td>\n",
       "    </tr>\n",
       "    <tr>\n",
       "      <th>998</th>\n",
       "      <td>/*And set the rest of the structure to NULL to...</td>\n",
       "      <td>-10.  * called from here must *not* call png_m...</td>\n",
       "      <td>Useful</td>\n",
       "      <td>Useful</td>\n",
       "    </tr>\n",
       "    <tr>\n",
       "      <th>999</th>\n",
       "      <td>/*Use png_ptr here, not info_ptr, because by e...</td>\n",
       "      <td>-8. static png_uint_32\\n-7. png_image_format(p...</td>\n",
       "      <td>Useful</td>\n",
       "      <td>Useful</td>\n",
       "    </tr>\n",
       "    <tr>\n",
       "      <th>1000</th>\n",
       "      <td>/*Is the given gamma significantly different f...</td>\n",
       "      <td>-10.     * is unclear.\\n-9.     */\\n-8.    els...</td>\n",
       "      <td>Useful</td>\n",
       "      <td>Useful</td>\n",
       "    </tr>\n",
       "  </tbody>\n",
       "</table>\n",
       "<p>798 rows × 4 columns</p>\n",
       "</div>"
      ],
      "text/plain": [
       "                                               Comments  \\\n",
       "0                                /*READ_INT_FUNCTIONS*/   \n",
       "1      /*Put the chunk name into png_ptr->chunk_name.*/   \n",
       "2                                          /*critical*/   \n",
       "3     /*READ_iCCP|iTXt|pCAL|sCAL|sPLT|tEXt|zTXt|SEQU...   \n",
       "4                             /*ZLIB_VERNUM >= 0x1240*/   \n",
       "...                                                 ...   \n",
       "996   /*The following document where the background ...   \n",
       "997   /*Do all the *safe* initialization - 'safe' me...   \n",
       "998   /*And set the rest of the structure to NULL to...   \n",
       "999   /*Use png_ptr here, not info_ptr, because by e...   \n",
       "1000  /*Is the given gamma significantly different f...   \n",
       "\n",
       "                               Surrounding Code Context       Class  \\\n",
       "0     -5.    if (png_ptr != NULL)\\n-4.       png_war...  Not Useful   \n",
       "1     -2.    png_read_data(png_ptr, buf, 8);\\n-1.   ...  Not Useful   \n",
       "2     -8. png_crc_read(png_structrp png_ptr, png_byt...  Not Useful   \n",
       "3     -9.       {\\n-8.          if (warn != 0)\\n-7. ...  Not Useful   \n",
       "4     #if ZLIB_VERNUM >= 0x1240\\n\\n/*ZLIB_VERNUM >= ...  Not Useful   \n",
       "...                                                 ...         ...   \n",
       "996   -5. #define PNG_CMAP_NONE      0\\n\\n /*The fol...      Useful   \n",
       "997   -1. } png_image_read_control;\\n/* Do all the *...      Useful   \n",
       "998   -10.  * called from here must *not* call png_m...      Useful   \n",
       "999   -8. static png_uint_32\\n-7. png_image_format(p...      Useful   \n",
       "1000  -10.     * is unclear.\\n-9.     */\\n-8.    els...      Useful   \n",
       "\n",
       "     Predicted Class  \n",
       "0         Not Useful  \n",
       "1         Not Useful  \n",
       "2         Not Useful  \n",
       "3         Not Useful  \n",
       "4         Not Useful  \n",
       "...              ...  \n",
       "996           Useful  \n",
       "997           Useful  \n",
       "998           Useful  \n",
       "999           Useful  \n",
       "1000          Useful  \n",
       "\n",
       "[798 rows x 4 columns]"
      ]
     },
     "execution_count": 18,
     "metadata": {},
     "output_type": "execute_result"
    }
   ],
   "source": [
    "output_df.drop_duplicates(inplace=True)\n",
    "\n",
    "output_df"
   ]
  },
  {
   "cell_type": "code",
   "execution_count": 19,
   "metadata": {},
   "outputs": [
    {
     "data": {
      "text/plain": [
       "'irse_deberta_Secondary_Results_iREL.csv'"
      ]
     },
     "execution_count": 19,
     "metadata": {},
     "output_type": "execute_result"
    }
   ],
   "source": [
    "outfile_name = '_'.join(EXP_NAME.split('-')) + '_Secondary_Results_iREL.csv'\n",
    "\n",
    "outfile_name"
   ]
  },
  {
   "cell_type": "code",
   "execution_count": null,
   "metadata": {},
   "outputs": [],
   "source": [
    "output_df.to_csv(outfile_name, index=False)"
   ]
  },
  {
   "cell_type": "code",
   "execution_count": null,
   "metadata": {},
   "outputs": [],
   "source": []
  }
 ],
 "metadata": {
  "kernelspec": {
   "display_name": "Python 3.8.10 64-bit",
   "language": "python",
   "name": "python3"
  },
  "language_info": {
   "codemirror_mode": {
    "name": "ipython",
    "version": 3
   },
   "file_extension": ".py",
   "mimetype": "text/x-python",
   "name": "python",
   "nbconvert_exporter": "python",
   "pygments_lexer": "ipython3",
   "version": "3.8.10"
  },
  "orig_nbformat": 4,
  "vscode": {
   "interpreter": {
    "hash": "916dbcbb3f70747c44a77c7bcd40155683ae19c65e1c03b4aa3499c5328201f1"
   }
  }
 },
 "nbformat": 4,
 "nbformat_minor": 2
}
